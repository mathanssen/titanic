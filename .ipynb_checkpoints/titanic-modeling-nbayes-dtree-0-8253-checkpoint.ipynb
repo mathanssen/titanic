{
 "cells": [
  {
   "cell_type": "markdown",
   "metadata": {
    "papermill": {
     "duration": 0.06363,
     "end_time": "2020-12-18T17:39:15.324277",
     "exception": false,
     "start_time": "2020-12-18T17:39:15.260647",
     "status": "completed"
    },
    "tags": []
   },
   "source": [
    "# Models that I used \n",
    "1. Linear Regresion (LB = **0.7799**)\n",
    "2. Naive Bayes (LB = **0.7703**)\n",
    "3. Decision Tree (LB = **0.811**)\n",
    "4. Linear SVM (LB = **0.7966**)\n",
    "\n",
    "And in the end we do assembly of models, and we got:\n",
    "* LR + NB + DT + SVM (LB = **0.7994**)\n",
    "* SVM + DT (LB = **0.8205**)\n",
    "* NB + DT (LB = **0.8253** )\n",
    "\n",
    "For choosing parameters I used function cross_val_score(cv=10,scoring='roc_auc')\n",
    "with: 10 folds and with scoring function: ROC accuracy. Also, all models get better on CV score than on the LB. Only in the Decision Tree models, I used parameters according to LB. "
   ]
  },
  {
   "cell_type": "markdown",
   "metadata": {
    "papermill": {
     "duration": 0.05951,
     "end_time": "2020-12-18T17:39:15.444135",
     "exception": false,
     "start_time": "2020-12-18T17:39:15.384625",
     "status": "completed"
    },
    "tags": []
   },
   "source": [
    "# Importing data"
   ]
  },
  {
   "cell_type": "code",
   "execution_count": 1,
   "metadata": {
    "_cell_guid": "b1076dfc-b9ad-4769-8c92-a6c4dae69d19",
    "_uuid": "8f2839f25d086af736a60e9eeb907d3b93b6e0e5",
    "execution": {
     "iopub.execute_input": "2020-12-18T17:39:15.572792Z",
     "iopub.status.busy": "2020-12-18T17:39:15.572001Z",
     "iopub.status.idle": "2020-12-18T17:39:16.826723Z",
     "shell.execute_reply": "2020-12-18T17:39:16.825758Z"
    },
    "papermill": {
     "duration": 1.322081,
     "end_time": "2020-12-18T17:39:16.826836",
     "exception": false,
     "start_time": "2020-12-18T17:39:15.504755",
     "status": "completed"
    },
    "tags": []
   },
   "outputs": [],
   "source": [
    "import numpy as np\n",
    "import pandas as pd\n",
    "import matplotlib.pyplot as plt\n",
    "import seaborn as sns\n",
    "sns.set()\n",
    "%matplotlib inline"
   ]
  },
  {
   "cell_type": "markdown",
   "metadata": {
    "papermill": {
     "duration": 0.039874,
     "end_time": "2020-12-18T17:39:16.907292",
     "exception": false,
     "start_time": "2020-12-18T17:39:16.867418",
     "status": "completed"
    },
    "tags": []
   },
   "source": [
    "Here we load prepared data from notebook [Titanic data preparation](https://www.kaggle.com/mkulio/titanic-data-preparation).\n",
    "Prepared data has new features:\n",
    "* \"Title\" - title of the passenger, derived from \"Name\" column, which can be Master, Miss, Mrs, Mr, and Revenant\n",
    "* \"FamilyName\" - derived from original \"Name\" column\n",
    "* \"TicketNumber\" - derived from original \"Ticket\" column\n",
    "* \"Mix\" - combination of \"TicketNumber\", \"Pclass\" and \"Embarked\" features\n",
    "* \"TicketGroup\" - number of passengers that have the same \"Mix\" feature \n",
    "* \"FamilySize\" - this is \"Parch\" + \"SibSp\" + 1\n",
    "\n",
    "A detailed description of the above features and code behind them you may found in the mentioned notebook."
   ]
  },
  {
   "cell_type": "code",
   "execution_count": 2,
   "metadata": {
    "_cell_guid": "79c7e3d0-c299-4dcb-8224-4455121ee9b0",
    "_uuid": "d629ff2d2480ee46fbb7e2d37f6b5fab8052498a",
    "execution": {
     "iopub.execute_input": "2020-12-18T17:39:16.991425Z",
     "iopub.status.busy": "2020-12-18T17:39:16.990775Z",
     "iopub.status.idle": "2020-12-18T17:39:16.997664Z",
     "shell.execute_reply": "2020-12-18T17:39:16.996787Z"
    },
    "papermill": {
     "duration": 0.051242,
     "end_time": "2020-12-18T17:39:16.997791",
     "exception": false,
     "start_time": "2020-12-18T17:39:16.946549",
     "status": "completed"
    },
    "tags": []
   },
   "outputs": [
    {
     "name": "stdout",
     "output_type": "stream",
     "text": [
      "/kaggle/input/titanic-data-preparation\n"
     ]
    }
   ],
   "source": [
    "cd /kaggle/input/titanic-data-preparation"
   ]
  },
  {
   "cell_type": "code",
   "execution_count": 3,
   "metadata": {
    "execution": {
     "iopub.execute_input": "2020-12-18T17:39:17.131086Z",
     "iopub.status.busy": "2020-12-18T17:39:17.130203Z",
     "iopub.status.idle": "2020-12-18T17:39:17.168193Z",
     "shell.execute_reply": "2020-12-18T17:39:17.167447Z"
    },
    "papermill": {
     "duration": 0.108207,
     "end_time": "2020-12-18T17:39:17.168323",
     "exception": false,
     "start_time": "2020-12-18T17:39:17.060116",
     "status": "completed"
    },
    "tags": []
   },
   "outputs": [
    {
     "data": {
      "text/plain": [
       "Index(['Survived', 'Pclass', 'Name', 'Sex', 'Age', 'SibSp', 'Parch', 'Fare',\n",
       "       'Embarked', 'TicketNumber', 'FamilyName', 'Title', 'Mix', 'TicketGroup',\n",
       "       'FamilySize', 'PassengerId'],\n",
       "      dtype='object')"
      ]
     },
     "execution_count": 3,
     "metadata": {},
     "output_type": "execute_result"
    }
   ],
   "source": [
    "train_data = pd.read_csv('train_prep.csv')\n",
    "test_data = pd.read_csv('test_prep.csv')\n",
    "train_data.columns"
   ]
  },
  {
   "cell_type": "code",
   "execution_count": 4,
   "metadata": {
    "execution": {
     "iopub.execute_input": "2020-12-18T17:39:17.296622Z",
     "iopub.status.busy": "2020-12-18T17:39:17.295467Z",
     "iopub.status.idle": "2020-12-18T17:39:17.313059Z",
     "shell.execute_reply": "2020-12-18T17:39:17.312215Z"
    },
    "papermill": {
     "duration": 0.08269,
     "end_time": "2020-12-18T17:39:17.313200",
     "exception": false,
     "start_time": "2020-12-18T17:39:17.230510",
     "status": "completed"
    },
    "tags": []
   },
   "outputs": [],
   "source": [
    "train_data.set_index('PassengerId',inplace = True)\n",
    "test_data.set_index('PassengerId',inplace = True)"
   ]
  },
  {
   "cell_type": "code",
   "execution_count": 5,
   "metadata": {
    "execution": {
     "iopub.execute_input": "2020-12-18T17:39:17.449562Z",
     "iopub.status.busy": "2020-12-18T17:39:17.448568Z",
     "iopub.status.idle": "2020-12-18T17:39:17.457623Z",
     "shell.execute_reply": "2020-12-18T17:39:17.456922Z"
    },
    "papermill": {
     "duration": 0.081294,
     "end_time": "2020-12-18T17:39:17.457732",
     "exception": false,
     "start_time": "2020-12-18T17:39:17.376438",
     "status": "completed"
    },
    "tags": []
   },
   "outputs": [],
   "source": [
    "all_data = pd.concat([train_data,test_data])"
   ]
  },
  {
   "cell_type": "code",
   "execution_count": 6,
   "metadata": {
    "execution": {
     "iopub.execute_input": "2020-12-18T17:39:17.550062Z",
     "iopub.status.busy": "2020-12-18T17:39:17.549072Z",
     "iopub.status.idle": "2020-12-18T17:39:17.553861Z",
     "shell.execute_reply": "2020-12-18T17:39:17.554453Z"
    },
    "papermill": {
     "duration": 0.053685,
     "end_time": "2020-12-18T17:39:17.554602",
     "exception": false,
     "start_time": "2020-12-18T17:39:17.500917",
     "status": "completed"
    },
    "tags": []
   },
   "outputs": [
    {
     "name": "stdout",
     "output_type": "stream",
     "text": [
      "(891, 15) (418, 15)\n",
      "(1309, 15)\n"
     ]
    }
   ],
   "source": [
    "print(train_data.shape,test_data.shape)\n",
    "print(all_data.shape)"
   ]
  },
  {
   "cell_type": "markdown",
   "metadata": {
    "papermill": {
     "duration": 0.042785,
     "end_time": "2020-12-18T17:39:17.640579",
     "exception": false,
     "start_time": "2020-12-18T17:39:17.597794",
     "status": "completed"
    },
    "tags": []
   },
   "source": [
    "# Adding new features"
   ]
  },
  {
   "cell_type": "markdown",
   "metadata": {
    "papermill": {
     "duration": 0.042001,
     "end_time": "2020-12-18T17:39:17.725397",
     "exception": false,
     "start_time": "2020-12-18T17:39:17.683396",
     "status": "completed"
    },
    "tags": []
   },
   "source": [
    "Creating Bins for Age column and Fare column"
   ]
  },
  {
   "cell_type": "code",
   "execution_count": 7,
   "metadata": {
    "execution": {
     "iopub.execute_input": "2020-12-18T17:39:17.816921Z",
     "iopub.status.busy": "2020-12-18T17:39:17.816257Z",
     "iopub.status.idle": "2020-12-18T17:39:17.914510Z",
     "shell.execute_reply": "2020-12-18T17:39:17.913627Z"
    },
    "papermill": {
     "duration": 0.147114,
     "end_time": "2020-12-18T17:39:17.914646",
     "exception": false,
     "start_time": "2020-12-18T17:39:17.767532",
     "status": "completed"
    },
    "tags": []
   },
   "outputs": [],
   "source": [
    "from sklearn.preprocessing import LabelEncoder\n",
    "label = LabelEncoder()"
   ]
  },
  {
   "cell_type": "code",
   "execution_count": 8,
   "metadata": {
    "execution": {
     "iopub.execute_input": "2020-12-18T17:39:18.050057Z",
     "iopub.status.busy": "2020-12-18T17:39:18.049382Z",
     "iopub.status.idle": "2020-12-18T17:39:18.099360Z",
     "shell.execute_reply": "2020-12-18T17:39:18.098678Z"
    },
    "papermill": {
     "duration": 0.120763,
     "end_time": "2020-12-18T17:39:18.099466",
     "exception": false,
     "start_time": "2020-12-18T17:39:17.978703",
     "status": "completed"
    },
    "tags": []
   },
   "outputs": [],
   "source": [
    "all_data['FareBin'] = pd.qcut(all_data['Fare'], 5)\n",
    "all_data['AgeBin'] = pd.cut(all_data['Age'],[0,2,5,12,18,80])"
   ]
  },
  {
   "cell_type": "code",
   "execution_count": 9,
   "metadata": {
    "execution": {
     "iopub.execute_input": "2020-12-18T17:39:18.207034Z",
     "iopub.status.busy": "2020-12-18T17:39:18.200072Z",
     "iopub.status.idle": "2020-12-18T17:39:18.210019Z",
     "shell.execute_reply": "2020-12-18T17:39:18.210663Z"
    },
    "papermill": {
     "duration": 0.06738,
     "end_time": "2020-12-18T17:39:18.210798",
     "exception": false,
     "start_time": "2020-12-18T17:39:18.143418",
     "status": "completed"
    },
    "tags": []
   },
   "outputs": [],
   "source": [
    "all_data['FareBin_Code'] = label.fit_transform(all_data['FareBin'])\n",
    "all_data['AgeBin_Code'] = label.fit_transform(all_data['AgeBin'])"
   ]
  },
  {
   "cell_type": "code",
   "execution_count": 10,
   "metadata": {
    "execution": {
     "iopub.execute_input": "2020-12-18T17:39:18.346486Z",
     "iopub.status.busy": "2020-12-18T17:39:18.345420Z",
     "iopub.status.idle": "2020-12-18T17:39:18.355598Z",
     "shell.execute_reply": "2020-12-18T17:39:18.356538Z"
    },
    "papermill": {
     "duration": 0.087965,
     "end_time": "2020-12-18T17:39:18.356711",
     "exception": false,
     "start_time": "2020-12-18T17:39:18.268746",
     "status": "completed"
    },
    "tags": []
   },
   "outputs": [],
   "source": [
    "all_data.drop(columns=['AgeBin'],inplace=True)\n",
    "all_data.drop(columns=['FareBin'],inplace=True)"
   ]
  },
  {
   "cell_type": "markdown",
   "metadata": {
    "papermill": {
     "duration": 0.065353,
     "end_time": "2020-12-18T17:39:18.494581",
     "exception": false,
     "start_time": "2020-12-18T17:39:18.429228",
     "status": "completed"
    },
    "tags": []
   },
   "source": [
    "Next, we create \"Srate\" column which represents passenger's survival rate. Idea is from the notebooks:\n",
    "* [Titanic [0.82] - [0.83]](https://www.kaggle.com/konstantinmasich/titanic-0-82-0-83) by KonstantinMasich\n",
    "* [Blood is thicker than water & friendship forever](https://www.kaggle.com/shunjiangxu/blood-is-thicker-than-water-friendship-forever) by ShunjiangXu\n",
    "\n",
    "I modified code a lot, which may be seen in the next few lines:"
   ]
  },
  {
   "cell_type": "code",
   "execution_count": 11,
   "metadata": {
    "execution": {
     "iopub.execute_input": "2020-12-18T17:39:18.630633Z",
     "iopub.status.busy": "2020-12-18T17:39:18.629978Z",
     "iopub.status.idle": "2020-12-18T17:39:18.958638Z",
     "shell.execute_reply": "2020-12-18T17:39:18.957949Z"
    },
    "papermill": {
     "duration": 0.399567,
     "end_time": "2020-12-18T17:39:18.958750",
     "exception": false,
     "start_time": "2020-12-18T17:39:18.559183",
     "status": "completed"
    },
    "tags": []
   },
   "outputs": [],
   "source": [
    "for i in range(1,len(all_data)+1):\n",
    "    all_data.loc[i,'Srate']=0.5"
   ]
  },
  {
   "cell_type": "code",
   "execution_count": 12,
   "metadata": {
    "execution": {
     "iopub.execute_input": "2020-12-18T17:39:19.056168Z",
     "iopub.status.busy": "2020-12-18T17:39:19.055294Z",
     "iopub.status.idle": "2020-12-18T17:39:21.487936Z",
     "shell.execute_reply": "2020-12-18T17:39:21.487402Z"
    },
    "papermill": {
     "duration": 2.486605,
     "end_time": "2020-12-18T17:39:21.488085",
     "exception": false,
     "start_time": "2020-12-18T17:39:19.001480",
     "status": "completed"
    },
    "tags": []
   },
   "outputs": [],
   "source": [
    "for i in range(1,len(all_data)+1):\n",
    "    number = all_data.loc[i,'TicketNumber']\n",
    "    group = all_data.loc[i,'TicketGroup'] \n",
    "    if group>1:\n",
    "        max = all_data.drop(i)[all_data.drop(i)['TicketNumber']==number]['Survived'].max()\n",
    "        if not pd.isna(max):\n",
    "            all_data.loc[i,'Srate']=all_data.drop(i)[all_data.drop(i)['TicketNumber']==number]['Survived'].max()"
   ]
  },
  {
   "cell_type": "code",
   "execution_count": 13,
   "metadata": {
    "execution": {
     "iopub.execute_input": "2020-12-18T17:39:21.588218Z",
     "iopub.status.busy": "2020-12-18T17:39:21.586991Z",
     "iopub.status.idle": "2020-12-18T17:39:21.604681Z",
     "shell.execute_reply": "2020-12-18T17:39:21.605346Z"
    },
    "papermill": {
     "duration": 0.073899,
     "end_time": "2020-12-18T17:39:21.605516",
     "exception": false,
     "start_time": "2020-12-18T17:39:21.531617",
     "status": "completed"
    },
    "tags": []
   },
   "outputs": [
    {
     "data": {
      "text/html": [
       "<div>\n",
       "<style scoped>\n",
       "    .dataframe tbody tr th:only-of-type {\n",
       "        vertical-align: middle;\n",
       "    }\n",
       "\n",
       "    .dataframe tbody tr th {\n",
       "        vertical-align: top;\n",
       "    }\n",
       "\n",
       "    .dataframe thead th {\n",
       "        text-align: right;\n",
       "    }\n",
       "</style>\n",
       "<table border=\"1\" class=\"dataframe\">\n",
       "  <thead>\n",
       "    <tr style=\"text-align: right;\">\n",
       "      <th></th>\n",
       "      <th>Survived</th>\n",
       "      <th>Pclass</th>\n",
       "      <th>Name</th>\n",
       "      <th>Sex</th>\n",
       "      <th>Age</th>\n",
       "      <th>SibSp</th>\n",
       "      <th>Parch</th>\n",
       "      <th>Fare</th>\n",
       "      <th>Embarked</th>\n",
       "      <th>TicketNumber</th>\n",
       "      <th>FamilyName</th>\n",
       "      <th>Title</th>\n",
       "      <th>Mix</th>\n",
       "      <th>TicketGroup</th>\n",
       "      <th>FamilySize</th>\n",
       "      <th>FareBin_Code</th>\n",
       "      <th>AgeBin_Code</th>\n",
       "      <th>Srate</th>\n",
       "    </tr>\n",
       "    <tr>\n",
       "      <th>PassengerId</th>\n",
       "      <th></th>\n",
       "      <th></th>\n",
       "      <th></th>\n",
       "      <th></th>\n",
       "      <th></th>\n",
       "      <th></th>\n",
       "      <th></th>\n",
       "      <th></th>\n",
       "      <th></th>\n",
       "      <th></th>\n",
       "      <th></th>\n",
       "      <th></th>\n",
       "      <th></th>\n",
       "      <th></th>\n",
       "      <th></th>\n",
       "      <th></th>\n",
       "      <th></th>\n",
       "      <th></th>\n",
       "    </tr>\n",
       "  </thead>\n",
       "  <tbody>\n",
       "    <tr>\n",
       "      <th>1</th>\n",
       "      <td>0.0</td>\n",
       "      <td>3</td>\n",
       "      <td>Braund, Mr. Owen Harris</td>\n",
       "      <td>male</td>\n",
       "      <td>22.0</td>\n",
       "      <td>1</td>\n",
       "      <td>0</td>\n",
       "      <td>7.2500</td>\n",
       "      <td>S</td>\n",
       "      <td>21171</td>\n",
       "      <td>Braund</td>\n",
       "      <td>Mr</td>\n",
       "      <td>S-3-21171</td>\n",
       "      <td>1.0</td>\n",
       "      <td>2</td>\n",
       "      <td>0</td>\n",
       "      <td>4</td>\n",
       "      <td>0.5</td>\n",
       "    </tr>\n",
       "    <tr>\n",
       "      <th>2</th>\n",
       "      <td>1.0</td>\n",
       "      <td>1</td>\n",
       "      <td>Cumings, Mrs. John Bradley (Florence Briggs Th...</td>\n",
       "      <td>female</td>\n",
       "      <td>38.0</td>\n",
       "      <td>1</td>\n",
       "      <td>0</td>\n",
       "      <td>71.2833</td>\n",
       "      <td>C</td>\n",
       "      <td>17599</td>\n",
       "      <td>Cumings</td>\n",
       "      <td>Mrs</td>\n",
       "      <td>C-1-17599</td>\n",
       "      <td>2.0</td>\n",
       "      <td>2</td>\n",
       "      <td>4</td>\n",
       "      <td>4</td>\n",
       "      <td>0.5</td>\n",
       "    </tr>\n",
       "    <tr>\n",
       "      <th>3</th>\n",
       "      <td>1.0</td>\n",
       "      <td>3</td>\n",
       "      <td>Heikkinen, Miss. Laina</td>\n",
       "      <td>female</td>\n",
       "      <td>26.0</td>\n",
       "      <td>0</td>\n",
       "      <td>0</td>\n",
       "      <td>7.9250</td>\n",
       "      <td>S</td>\n",
       "      <td>3101282</td>\n",
       "      <td>Heikkinen</td>\n",
       "      <td>Miss</td>\n",
       "      <td>S-3-3101282</td>\n",
       "      <td>1.0</td>\n",
       "      <td>1</td>\n",
       "      <td>1</td>\n",
       "      <td>4</td>\n",
       "      <td>0.5</td>\n",
       "    </tr>\n",
       "    <tr>\n",
       "      <th>4</th>\n",
       "      <td>1.0</td>\n",
       "      <td>1</td>\n",
       "      <td>Futrelle, Mrs. Jacques Heath (Lily May Peel)</td>\n",
       "      <td>female</td>\n",
       "      <td>35.0</td>\n",
       "      <td>1</td>\n",
       "      <td>0</td>\n",
       "      <td>53.1000</td>\n",
       "      <td>S</td>\n",
       "      <td>113803</td>\n",
       "      <td>Futrelle</td>\n",
       "      <td>Mrs</td>\n",
       "      <td>S-1-113803</td>\n",
       "      <td>2.0</td>\n",
       "      <td>2</td>\n",
       "      <td>4</td>\n",
       "      <td>4</td>\n",
       "      <td>0.0</td>\n",
       "    </tr>\n",
       "    <tr>\n",
       "      <th>5</th>\n",
       "      <td>0.0</td>\n",
       "      <td>3</td>\n",
       "      <td>Allen, Mr. William Henry</td>\n",
       "      <td>male</td>\n",
       "      <td>35.0</td>\n",
       "      <td>0</td>\n",
       "      <td>0</td>\n",
       "      <td>8.0500</td>\n",
       "      <td>S</td>\n",
       "      <td>373450</td>\n",
       "      <td>Allen</td>\n",
       "      <td>Mr</td>\n",
       "      <td>S-3-373450</td>\n",
       "      <td>1.0</td>\n",
       "      <td>1</td>\n",
       "      <td>1</td>\n",
       "      <td>4</td>\n",
       "      <td>0.5</td>\n",
       "    </tr>\n",
       "  </tbody>\n",
       "</table>\n",
       "</div>"
      ],
      "text/plain": [
       "             Survived  Pclass  \\\n",
       "PassengerId                     \n",
       "1                 0.0       3   \n",
       "2                 1.0       1   \n",
       "3                 1.0       3   \n",
       "4                 1.0       1   \n",
       "5                 0.0       3   \n",
       "\n",
       "                                                          Name     Sex   Age  \\\n",
       "PassengerId                                                                    \n",
       "1                                      Braund, Mr. Owen Harris    male  22.0   \n",
       "2            Cumings, Mrs. John Bradley (Florence Briggs Th...  female  38.0   \n",
       "3                                       Heikkinen, Miss. Laina  female  26.0   \n",
       "4                 Futrelle, Mrs. Jacques Heath (Lily May Peel)  female  35.0   \n",
       "5                                     Allen, Mr. William Henry    male  35.0   \n",
       "\n",
       "             SibSp  Parch     Fare Embarked  TicketNumber FamilyName Title  \\\n",
       "PassengerId                                                                  \n",
       "1                1      0   7.2500        S         21171     Braund    Mr   \n",
       "2                1      0  71.2833        C         17599    Cumings   Mrs   \n",
       "3                0      0   7.9250        S       3101282  Heikkinen  Miss   \n",
       "4                1      0  53.1000        S        113803   Futrelle   Mrs   \n",
       "5                0      0   8.0500        S        373450      Allen    Mr   \n",
       "\n",
       "                     Mix  TicketGroup  FamilySize  FareBin_Code  AgeBin_Code  \\\n",
       "PassengerId                                                                    \n",
       "1              S-3-21171          1.0           2             0            4   \n",
       "2              C-1-17599          2.0           2             4            4   \n",
       "3            S-3-3101282          1.0           1             1            4   \n",
       "4             S-1-113803          2.0           2             4            4   \n",
       "5             S-3-373450          1.0           1             1            4   \n",
       "\n",
       "             Srate  \n",
       "PassengerId         \n",
       "1              0.5  \n",
       "2              0.5  \n",
       "3              0.5  \n",
       "4              0.0  \n",
       "5              0.5  "
      ]
     },
     "execution_count": 13,
     "metadata": {},
     "output_type": "execute_result"
    }
   ],
   "source": [
    "all_data.head()"
   ]
  },
  {
   "cell_type": "markdown",
   "metadata": {
    "papermill": {
     "duration": 0.066212,
     "end_time": "2020-12-18T17:39:21.737269",
     "exception": false,
     "start_time": "2020-12-18T17:39:21.671057",
     "status": "completed"
    },
    "tags": []
   },
   "source": [
    "# Exploring features"
   ]
  },
  {
   "cell_type": "code",
   "execution_count": 14,
   "metadata": {
    "execution": {
     "iopub.execute_input": "2020-12-18T17:39:21.843976Z",
     "iopub.status.busy": "2020-12-18T17:39:21.843137Z",
     "iopub.status.idle": "2020-12-18T17:39:21.847784Z",
     "shell.execute_reply": "2020-12-18T17:39:21.848443Z"
    },
    "papermill": {
     "duration": 0.057405,
     "end_time": "2020-12-18T17:39:21.848629",
     "exception": false,
     "start_time": "2020-12-18T17:39:21.791224",
     "status": "completed"
    },
    "tags": []
   },
   "outputs": [],
   "source": [
    "train_data = all_data[:891]\n",
    "test_data = all_data[891:]"
   ]
  },
  {
   "cell_type": "code",
   "execution_count": 15,
   "metadata": {
    "execution": {
     "iopub.execute_input": "2020-12-18T17:39:21.987140Z",
     "iopub.status.busy": "2020-12-18T17:39:21.986234Z",
     "iopub.status.idle": "2020-12-18T17:39:21.990766Z",
     "shell.execute_reply": "2020-12-18T17:39:21.990100Z"
    },
    "papermill": {
     "duration": 0.076245,
     "end_time": "2020-12-18T17:39:21.990902",
     "exception": false,
     "start_time": "2020-12-18T17:39:21.914657",
     "status": "completed"
    },
    "tags": []
   },
   "outputs": [],
   "source": [
    "numerical = [\"Pclass\",\"Age\",\"SibSp\",\"Parch\",\"Fare\",\"TicketGroup\",\"FamilySize\",\"FareBin_Code\",\"AgeBin_Code\",\"Srate\",\"TicketNumber\"]\n",
    "categorical = [\"Embarked\",\"Title\",\"Sex\"]\n",
    "all_features = numerical + categorical"
   ]
  },
  {
   "cell_type": "code",
   "execution_count": 16,
   "metadata": {
    "execution": {
     "iopub.execute_input": "2020-12-18T17:39:22.129495Z",
     "iopub.status.busy": "2020-12-18T17:39:22.128625Z",
     "iopub.status.idle": "2020-12-18T17:39:22.972449Z",
     "shell.execute_reply": "2020-12-18T17:39:22.972062Z"
    },
    "papermill": {
     "duration": 0.916102,
     "end_time": "2020-12-18T17:39:22.972526",
     "exception": false,
     "start_time": "2020-12-18T17:39:22.056424",
     "status": "completed"
    },
    "tags": []
   },
   "outputs": [
    {
     "data": {
      "text/plain": [
       "<matplotlib.axes._subplots.AxesSubplot at 0x7fed2404c3d0>"
      ]
     },
     "execution_count": 16,
     "metadata": {},
     "output_type": "execute_result"
    },
    {
     "data": {
      "image/png": "[encoded data removed]",
      "text/plain": [
       "<Figure size 864x576 with 2 Axes>"
      ]
     },
     "metadata": {},
     "output_type": "display_data"
    }
   ],
   "source": [
    "sns.set(rc={'figure.figsize':(12,8)})\n",
    "sns.heatmap(train_data[[\"Survived\"]+numerical].corr(),annot=True, fmt = \".3f\")"
   ]
  },
  {
   "cell_type": "markdown",
   "metadata": {
    "papermill": {
     "duration": 0.033414,
     "end_time": "2020-12-18T17:39:23.040065",
     "exception": false,
     "start_time": "2020-12-18T17:39:23.006651",
     "status": "completed"
    },
    "tags": []
   },
   "source": [
    "*From the above corr table we see the impact of creating bins for \"Fare\" and \"Age\" and \"Srate\" column*"
   ]
  },
  {
   "cell_type": "code",
   "execution_count": 17,
   "metadata": {
    "execution": {
     "iopub.execute_input": "2020-12-18T17:39:23.135510Z",
     "iopub.status.busy": "2020-12-18T17:39:23.134813Z",
     "iopub.status.idle": "2020-12-18T17:39:23.644468Z",
     "shell.execute_reply": "2020-12-18T17:39:23.645003Z"
    },
    "papermill": {
     "duration": 0.566547,
     "end_time": "2020-12-18T17:39:23.645148",
     "exception": false,
     "start_time": "2020-12-18T17:39:23.078601",
     "status": "completed"
    },
    "tags": []
   },
   "outputs": [
    {
     "data": {
      "text/plain": [
       "<seaborn.axisgrid.FacetGrid at 0x7fed1d032890>"
      ]
     },
     "execution_count": 17,
     "metadata": {},
     "output_type": "execute_result"
    },
    {
     "data": {
      "image/png": "[encoded data removed]",
      "text/plain": [
       "<Figure size 432x432 with 1 Axes>"
      ]
     },
     "metadata": {},
     "output_type": "display_data"
    }
   ],
   "source": [
    "g = sns.catplot(x=\"Sex\",y=\"Survived\",data=train_data,kind=\"bar\", height = 6 , palette = \"muted\")\n",
    "g.set_ylabels(\"Survival probability\")"
   ]
  },
  {
   "cell_type": "code",
   "execution_count": 18,
   "metadata": {
    "execution": {
     "iopub.execute_input": "2020-12-18T17:39:23.746465Z",
     "iopub.status.busy": "2020-12-18T17:39:23.745804Z",
     "iopub.status.idle": "2020-12-18T17:39:26.503205Z",
     "shell.execute_reply": "2020-12-18T17:39:26.503976Z"
    },
    "papermill": {
     "duration": 2.810663,
     "end_time": "2020-12-18T17:39:26.504125",
     "exception": false,
     "start_time": "2020-12-18T17:39:23.693462",
     "status": "completed"
    },
    "tags": []
   },
   "outputs": [
    {
     "data": {
      "image/png": "[encoded data removed]",
      "text/plain": [
       "<Figure size 691.2x864 with 9 Axes>"
      ]
     },
     "metadata": {},
     "output_type": "display_data"
    }
   ],
   "source": [
    "g = sns.catplot(x=\"Title\", y=\"Survived\",col=\"TicketGroup\", data=train_data, kind=\"bar\", col_wrap=3,height=4, aspect=.8,legend=True,sharex=False, ci=None)\n",
    "for ax in g.axes.flatten():\n",
    "    ax.set_xticklabels([\"Mr\",\"Mrs\",\"Miss\",\"Master\",\"Rev\"])"
   ]
  },
  {
   "cell_type": "markdown",
   "metadata": {
    "papermill": {
     "duration": 0.054807,
     "end_time": "2020-12-18T17:39:26.611243",
     "exception": false,
     "start_time": "2020-12-18T17:39:26.556436",
     "status": "completed"
    },
    "tags": []
   },
   "source": [
    "Looking at the above graphs, one may presume that \"Title\" has a significant impact on creating a model. That is not the case with my single best model - we did not use \"Title column\" in Decision Tree classification. But in the end, with assembly, we used the Naive Bayes model which uses the \"Title\" column."
   ]
  },
  {
   "cell_type": "markdown",
   "metadata": {
    "papermill": {
     "duration": 0.044524,
     "end_time": "2020-12-18T17:39:26.696944",
     "exception": false,
     "start_time": "2020-12-18T17:39:26.652420",
     "status": "completed"
    },
    "tags": []
   },
   "source": [
    "# Modeling"
   ]
  },
  {
   "cell_type": "code",
   "execution_count": 19,
   "metadata": {
    "execution": {
     "iopub.execute_input": "2020-12-18T17:39:26.809711Z",
     "iopub.status.busy": "2020-12-18T17:39:26.808792Z",
     "iopub.status.idle": "2020-12-18T17:39:27.133431Z",
     "shell.execute_reply": "2020-12-18T17:39:27.132860Z"
    },
    "papermill": {
     "duration": 0.384088,
     "end_time": "2020-12-18T17:39:27.133555",
     "exception": false,
     "start_time": "2020-12-18T17:39:26.749467",
     "status": "completed"
    },
    "tags": []
   },
   "outputs": [],
   "source": [
    "from sklearn.preprocessing import StandardScaler\n",
    "from sklearn.pipeline import Pipeline\n",
    "from sklearn.model_selection import cross_val_score\n",
    "from sklearn.compose import ColumnTransformer\n",
    "from sklearn.preprocessing import OneHotEncoder\n",
    "from sklearn.preprocessing import OrdinalEncoder\n",
    "from sklearn.model_selection import GridSearchCV\n",
    "from sklearn.ensemble import VotingClassifier"
   ]
  },
  {
   "cell_type": "code",
   "execution_count": 20,
   "metadata": {
    "execution": {
     "iopub.execute_input": "2020-12-18T17:39:27.243463Z",
     "iopub.status.busy": "2020-12-18T17:39:27.242820Z",
     "iopub.status.idle": "2020-12-18T17:39:27.245422Z",
     "shell.execute_reply": "2020-12-18T17:39:27.246004Z"
    },
    "papermill": {
     "duration": 0.060674,
     "end_time": "2020-12-18T17:39:27.246138",
     "exception": false,
     "start_time": "2020-12-18T17:39:27.185464",
     "status": "completed"
    },
    "tags": []
   },
   "outputs": [],
   "source": [
    "y = train_data['Survived']\n",
    "X = train_data.drop(columns = ['Survived'])"
   ]
  },
  {
   "cell_type": "markdown",
   "metadata": {
    "papermill": {
     "duration": 0.051013,
     "end_time": "2020-12-18T17:39:27.349133",
     "exception": false,
     "start_time": "2020-12-18T17:39:27.298120",
     "status": "completed"
    },
    "tags": []
   },
   "source": [
    "## 1. Logistic Regression"
   ]
  },
  {
   "cell_type": "code",
   "execution_count": 21,
   "metadata": {
    "execution": {
     "iopub.execute_input": "2020-12-18T17:39:27.453384Z",
     "iopub.status.busy": "2020-12-18T17:39:27.452721Z",
     "iopub.status.idle": "2020-12-18T17:39:27.456208Z",
     "shell.execute_reply": "2020-12-18T17:39:27.456709Z"
    },
    "papermill": {
     "duration": 0.057422,
     "end_time": "2020-12-18T17:39:27.456865",
     "exception": false,
     "start_time": "2020-12-18T17:39:27.399443",
     "status": "completed"
    },
    "tags": []
   },
   "outputs": [],
   "source": [
    "from sklearn.linear_model import LogisticRegression\n",
    "log_reg = LogisticRegression(C=1.9)"
   ]
  },
  {
   "cell_type": "code",
   "execution_count": 22,
   "metadata": {
    "execution": {
     "iopub.execute_input": "2020-12-18T17:39:27.563000Z",
     "iopub.status.busy": "2020-12-18T17:39:27.562300Z",
     "iopub.status.idle": "2020-12-18T17:39:27.569806Z",
     "shell.execute_reply": "2020-12-18T17:39:27.569185Z"
    },
    "papermill": {
     "duration": 0.06166,
     "end_time": "2020-12-18T17:39:27.569922",
     "exception": false,
     "start_time": "2020-12-18T17:39:27.508262",
     "status": "completed"
    },
    "tags": []
   },
   "outputs": [],
   "source": [
    "num_att_LR = [\"Pclass\",\"Age\",\"TicketNumber\",\"SibSp\",\"Parch\",\"Srate\",\"Fare\"]\n",
    "cat_att1_LR = [\"Sex\"]\n",
    "cat_att2_LR = [\"Title\"]\n",
    "drop_att_LR = list(set(all_features) - set(num_att_LR+cat_att1_LR+cat_att2_LR))\n",
    "\n",
    "full_pipline_LR = ColumnTransformer([\n",
    "    (\"toDrop\",'drop',drop_att_LR),\n",
    "    (\"numerical\",StandardScaler(),num_att_LR),\n",
    "    (\"categorical1\",OrdinalEncoder(),cat_att1_LR),\n",
    "    (\"categorical2\",OneHotEncoder(),cat_att2_LR)\n",
    "])"
   ]
  },
  {
   "cell_type": "code",
   "execution_count": 23,
   "metadata": {
    "execution": {
     "iopub.execute_input": "2020-12-18T17:39:27.682909Z",
     "iopub.status.busy": "2020-12-18T17:39:27.682057Z",
     "iopub.status.idle": "2020-12-18T17:39:27.849566Z",
     "shell.execute_reply": "2020-12-18T17:39:27.848860Z"
    },
    "papermill": {
     "duration": 0.229547,
     "end_time": "2020-12-18T17:39:27.849714",
     "exception": false,
     "start_time": "2020-12-18T17:39:27.620167",
     "status": "completed"
    },
    "tags": []
   },
   "outputs": [
    {
     "data": {
      "text/plain": [
       "0.8982831678125797"
      ]
     },
     "execution_count": 23,
     "metadata": {},
     "output_type": "execute_result"
    }
   ],
   "source": [
    "X_prep = full_pipline_LR.fit_transform(X)\n",
    "cross_val_score(log_reg,X_prep,y,cv=10,scoring='roc_auc').mean()"
   ]
  },
  {
   "cell_type": "markdown",
   "metadata": {
    "papermill": {
     "duration": 0.075838,
     "end_time": "2020-12-18T17:39:28.001271",
     "exception": false,
     "start_time": "2020-12-18T17:39:27.925433",
     "status": "completed"
    },
    "tags": []
   },
   "source": [
    "On the LB this model gets **0.7799**"
   ]
  },
  {
   "cell_type": "markdown",
   "metadata": {
    "papermill": {
     "duration": 0.051939,
     "end_time": "2020-12-18T17:39:28.108176",
     "exception": false,
     "start_time": "2020-12-18T17:39:28.056237",
     "status": "completed"
    },
    "tags": []
   },
   "source": [
    "## 2. Naive Bayes"
   ]
  },
  {
   "cell_type": "code",
   "execution_count": 24,
   "metadata": {
    "execution": {
     "iopub.execute_input": "2020-12-18T17:39:28.217900Z",
     "iopub.status.busy": "2020-12-18T17:39:28.217069Z",
     "iopub.status.idle": "2020-12-18T17:39:28.224698Z",
     "shell.execute_reply": "2020-12-18T17:39:28.223932Z"
    },
    "papermill": {
     "duration": 0.065141,
     "end_time": "2020-12-18T17:39:28.224831",
     "exception": false,
     "start_time": "2020-12-18T17:39:28.159690",
     "status": "completed"
    },
    "tags": []
   },
   "outputs": [],
   "source": [
    "from sklearn.naive_bayes import CategoricalNB\n",
    "cat_bayes = CategoricalNB(alpha=0.05)"
   ]
  },
  {
   "cell_type": "code",
   "execution_count": 25,
   "metadata": {
    "execution": {
     "iopub.execute_input": "2020-12-18T17:39:28.386278Z",
     "iopub.status.busy": "2020-12-18T17:39:28.385421Z",
     "iopub.status.idle": "2020-12-18T17:39:28.390661Z",
     "shell.execute_reply": "2020-12-18T17:39:28.389881Z"
    },
    "papermill": {
     "duration": 0.088485,
     "end_time": "2020-12-18T17:39:28.390797",
     "exception": false,
     "start_time": "2020-12-18T17:39:28.302312",
     "status": "completed"
    },
    "tags": []
   },
   "outputs": [],
   "source": [
    "num_att_NB = [\"FareBin_Code\",\"AgeBin_Code\"]\n",
    "cat_att_NB = [\"Title\"]\n",
    "drop_att_NB = list(set(all_features) - set(num_att_NB+cat_att_NB))\n",
    "\n",
    "full_pipline_NB = ColumnTransformer([\n",
    "    (\"cat\",OrdinalEncoder(),cat_att_NB),\n",
    "    (\"num\",'passthrough',num_att_NB),\n",
    "    (\"drop\",'drop',drop_att_NB)\n",
    "])"
   ]
  },
  {
   "cell_type": "code",
   "execution_count": 26,
   "metadata": {
    "execution": {
     "iopub.execute_input": "2020-12-18T17:39:28.555478Z",
     "iopub.status.busy": "2020-12-18T17:39:28.554626Z",
     "iopub.status.idle": "2020-12-18T17:39:28.596579Z",
     "shell.execute_reply": "2020-12-18T17:39:28.595797Z"
    },
    "papermill": {
     "duration": 0.129578,
     "end_time": "2020-12-18T17:39:28.596709",
     "exception": false,
     "start_time": "2020-12-18T17:39:28.467131",
     "status": "completed"
    },
    "tags": []
   },
   "outputs": [
    {
     "data": {
      "text/plain": [
       "0.8301997566703448"
      ]
     },
     "execution_count": 26,
     "metadata": {},
     "output_type": "execute_result"
    }
   ],
   "source": [
    "X_prep = full_pipline_NB.fit_transform(X)\n",
    "cross_val_score(cat_bayes,X_prep,y,cv=10,scoring='roc_auc').mean()"
   ]
  },
  {
   "cell_type": "markdown",
   "metadata": {
    "papermill": {
     "duration": 0.0803,
     "end_time": "2020-12-18T17:39:28.754043",
     "exception": false,
     "start_time": "2020-12-18T17:39:28.673743",
     "status": "completed"
    },
    "tags": []
   },
   "source": [
    "On the LB NaiveBayes gets score of **0.7703**"
   ]
  },
  {
   "cell_type": "markdown",
   "metadata": {
    "papermill": {
     "duration": 0.077017,
     "end_time": "2020-12-18T17:39:28.908185",
     "exception": false,
     "start_time": "2020-12-18T17:39:28.831168",
     "status": "completed"
    },
    "tags": []
   },
   "source": [
    "## 3. Decision Tree\n",
    "Here, I used grid search for finding the best hyperparameters for Decision Tree. If we use more features to decide splitting, we get better LB score."
   ]
  },
  {
   "cell_type": "code",
   "execution_count": 27,
   "metadata": {
    "execution": {
     "iopub.execute_input": "2020-12-18T17:39:29.136365Z",
     "iopub.status.busy": "2020-12-18T17:39:29.135607Z",
     "iopub.status.idle": "2020-12-18T17:39:29.140526Z",
     "shell.execute_reply": "2020-12-18T17:39:29.139814Z"
    },
    "papermill": {
     "duration": 0.15526,
     "end_time": "2020-12-18T17:39:29.140638",
     "exception": false,
     "start_time": "2020-12-18T17:39:28.985378",
     "status": "completed"
    },
    "tags": []
   },
   "outputs": [],
   "source": [
    "from sklearn import tree"
   ]
  },
  {
   "cell_type": "code",
   "execution_count": 28,
   "metadata": {
    "execution": {
     "iopub.execute_input": "2020-12-18T17:39:29.238880Z",
     "iopub.status.busy": "2020-12-18T17:39:29.238397Z",
     "iopub.status.idle": "2020-12-18T17:39:29.241699Z",
     "shell.execute_reply": "2020-12-18T17:39:29.242147Z"
    },
    "papermill": {
     "duration": 0.045819,
     "end_time": "2020-12-18T17:39:29.242247",
     "exception": false,
     "start_time": "2020-12-18T17:39:29.196428",
     "status": "completed"
    },
    "tags": []
   },
   "outputs": [],
   "source": [
    "num_att_DT =[\"Pclass\",\"FamilySize\",\"Srate\",\"AgeBin_Code\",\"FareBin_Code\"]\n",
    "cat_att_DT = [\"Sex\"]\n",
    "drop_att_DT = list(set(all_features) - set(num_att_DT + cat_att_DT))\n",
    "\n",
    "full_pipline_DT = ColumnTransformer([\n",
    "    (\"droping\",'drop',drop_att_DT),\n",
    "    (\"num\",'passthrough',num_att_DT),\n",
    "    (\"cat\",OrdinalEncoder(),cat_att_DT),\n",
    "])"
   ]
  },
  {
   "cell_type": "code",
   "execution_count": 29,
   "metadata": {
    "execution": {
     "iopub.execute_input": "2020-12-18T17:39:29.323155Z",
     "iopub.status.busy": "2020-12-18T17:39:29.322433Z",
     "iopub.status.idle": "2020-12-18T17:39:29.333999Z",
     "shell.execute_reply": "2020-12-18T17:39:29.333313Z"
    },
    "papermill": {
     "duration": 0.054768,
     "end_time": "2020-12-18T17:39:29.334116",
     "exception": false,
     "start_time": "2020-12-18T17:39:29.279348",
     "status": "completed"
    },
    "tags": []
   },
   "outputs": [],
   "source": [
    "X_prep = full_pipline_DT.fit_transform(X)"
   ]
  },
  {
   "cell_type": "code",
   "execution_count": 30,
   "metadata": {
    "execution": {
     "iopub.execute_input": "2020-12-18T17:39:29.447468Z",
     "iopub.status.busy": "2020-12-18T17:39:29.446766Z",
     "iopub.status.idle": "2020-12-18T17:39:29.451010Z",
     "shell.execute_reply": "2020-12-18T17:39:29.450453Z"
    },
    "papermill": {
     "duration": 0.064568,
     "end_time": "2020-12-18T17:39:29.451109",
     "exception": false,
     "start_time": "2020-12-18T17:39:29.386541",
     "status": "completed"
    },
    "tags": []
   },
   "outputs": [],
   "source": [
    "criterion = [\"gini\", \"entropy\"]\n",
    "max_depth = list(range(1,12,1))\n",
    "max_features = [1,2,3,4,5,6]\n",
    "splitter = [\"best\",\"random\"]\n",
    "min_samples_split = [2,3]\n",
    "hyperparams = {'criterion': criterion, 'max_depth': max_depth, 'max_features': max_features, \n",
    "               'splitter': splitter, 'min_samples_split': min_samples_split}\n",
    "\n",
    "gd = GridSearchCV(estimator = tree.DecisionTreeClassifier(random_state=1), param_grid = hyperparams, verbose=0, \n",
    "                cv=10, scoring = \"roc_auc\")"
   ]
  },
  {
   "cell_type": "code",
   "execution_count": 31,
   "metadata": {
    "execution": {
     "iopub.execute_input": "2020-12-18T17:39:29.568099Z",
     "iopub.status.busy": "2020-12-18T17:39:29.567434Z",
     "iopub.status.idle": "2020-12-18T17:39:52.865137Z",
     "shell.execute_reply": "2020-12-18T17:39:52.864460Z"
    },
    "papermill": {
     "duration": 23.355963,
     "end_time": "2020-12-18T17:39:52.865240",
     "exception": false,
     "start_time": "2020-12-18T17:39:29.509277",
     "status": "completed"
    },
    "tags": []
   },
   "outputs": [
    {
     "name": "stdout",
     "output_type": "stream",
     "text": [
      "0.8950068471833179\n",
      "DecisionTreeClassifier(criterion='entropy', max_depth=5, max_features=3,\n",
      "                       random_state=1, splitter='random')\n"
     ]
    }
   ],
   "source": [
    "gd.fit(X_prep, y)\n",
    "print(gd.best_score_)\n",
    "print(gd.best_estimator_)"
   ]
  },
  {
   "cell_type": "markdown",
   "metadata": {
    "papermill": {
     "duration": 0.053081,
     "end_time": "2020-12-18T17:39:53.002933",
     "exception": false,
     "start_time": "2020-12-18T17:39:52.949852",
     "status": "completed"
    },
    "tags": []
   },
   "source": [
    "Those parameters get us a score of **0.7847**. The interesting thing is when we use a model that is different from this one only in one thing - **max_features = 6**, we get score of **0.811**. So we use this model:"
   ]
  },
  {
   "cell_type": "code",
   "execution_count": 32,
   "metadata": {
    "execution": {
     "iopub.execute_input": "2020-12-18T17:39:53.115095Z",
     "iopub.status.busy": "2020-12-18T17:39:53.114443Z",
     "iopub.status.idle": "2020-12-18T17:39:53.116990Z",
     "shell.execute_reply": "2020-12-18T17:39:53.117618Z"
    },
    "papermill": {
     "duration": 0.061447,
     "end_time": "2020-12-18T17:39:53.117751",
     "exception": false,
     "start_time": "2020-12-18T17:39:53.056304",
     "status": "completed"
    },
    "tags": []
   },
   "outputs": [],
   "source": [
    "DT_clf = tree.DecisionTreeClassifier(criterion='entropy', max_depth=5, max_features=6,\n",
    "                       random_state=1, splitter='random') "
   ]
  },
  {
   "cell_type": "markdown",
   "metadata": {
    "papermill": {
     "duration": 0.053376,
     "end_time": "2020-12-18T17:39:53.224781",
     "exception": false,
     "start_time": "2020-12-18T17:39:53.171405",
     "status": "completed"
    },
    "tags": []
   },
   "source": [
    "## 4. Suport Vector Machines\n",
    "I tried LinearSVC and SVC with the polynomial kernel, but my grid search didn't, gave a significant result compared to Linear SVC, so I left Linear kernel."
   ]
  },
  {
   "cell_type": "code",
   "execution_count": 33,
   "metadata": {
    "execution": {
     "iopub.execute_input": "2020-12-18T17:39:53.340234Z",
     "iopub.status.busy": "2020-12-18T17:39:53.339562Z",
     "iopub.status.idle": "2020-12-18T17:39:53.345545Z",
     "shell.execute_reply": "2020-12-18T17:39:53.346136Z"
    },
    "papermill": {
     "duration": 0.06684,
     "end_time": "2020-12-18T17:39:53.346276",
     "exception": false,
     "start_time": "2020-12-18T17:39:53.279436",
     "status": "completed"
    },
    "tags": []
   },
   "outputs": [],
   "source": [
    "from sklearn.svm import LinearSVC\n",
    "from sklearn.svm import SVC\n",
    "svm_clf = LinearSVC(C=0.1, loss = 'hinge', max_iter=100000, random_state=1,)"
   ]
  },
  {
   "cell_type": "code",
   "execution_count": 34,
   "metadata": {
    "execution": {
     "iopub.execute_input": "2020-12-18T17:39:53.459992Z",
     "iopub.status.busy": "2020-12-18T17:39:53.459305Z",
     "iopub.status.idle": "2020-12-18T17:39:53.462329Z",
     "shell.execute_reply": "2020-12-18T17:39:53.461866Z"
    },
    "papermill": {
     "duration": 0.063079,
     "end_time": "2020-12-18T17:39:53.462414",
     "exception": false,
     "start_time": "2020-12-18T17:39:53.399335",
     "status": "completed"
    },
    "tags": []
   },
   "outputs": [],
   "source": [
    "num_att_SVM = numerical\n",
    "cat_att1_SVM = [\"Sex\"]\n",
    "cat_att2_SVM = [\"Title\"]\n",
    "drop_att_SVM = list(set(all_features) - set(num_att_SVM + cat_att1_SVM+cat_att2_SVM))\n",
    "\n",
    "full_pipline_SVM = ColumnTransformer([\n",
    "    (\"drop\",'drop',drop_att_SVM),\n",
    "    (\"cat\",OrdinalEncoder(),cat_att1_SVM),\n",
    "    (\"num\",StandardScaler(),num_att_SVM),\n",
    "    (\"cat2\",OneHotEncoder(),cat_att2_SVM),\n",
    "])"
   ]
  },
  {
   "cell_type": "code",
   "execution_count": 35,
   "metadata": {
    "execution": {
     "iopub.execute_input": "2020-12-18T17:39:53.547793Z",
     "iopub.status.busy": "2020-12-18T17:39:53.547341Z",
     "iopub.status.idle": "2020-12-18T17:39:53.661296Z",
     "shell.execute_reply": "2020-12-18T17:39:53.660686Z"
    },
    "papermill": {
     "duration": 0.160061,
     "end_time": "2020-12-18T17:39:53.661400",
     "exception": false,
     "start_time": "2020-12-18T17:39:53.501339",
     "status": "completed"
    },
    "tags": []
   },
   "outputs": [
    {
     "data": {
      "text/plain": [
       "0.8830509011685482"
      ]
     },
     "execution_count": 35,
     "metadata": {},
     "output_type": "execute_result"
    }
   ],
   "source": [
    "X_prep = full_pipline_SVM.fit_transform(X)\n",
    "cross_val_score(svm_clf,X_prep,y,cv=10,scoring='roc_auc').mean()"
   ]
  },
  {
   "cell_type": "markdown",
   "metadata": {
    "papermill": {
     "duration": 0.053853,
     "end_time": "2020-12-18T17:39:53.769373",
     "exception": false,
     "start_time": "2020-12-18T17:39:53.715520",
     "status": "completed"
    },
    "tags": []
   },
   "source": [
    "With SVM model we get **0.7966** on the LB"
   ]
  },
  {
   "cell_type": "markdown",
   "metadata": {
    "papermill": {
     "duration": 0.0542,
     "end_time": "2020-12-18T17:39:53.878262",
     "exception": false,
     "start_time": "2020-12-18T17:39:53.824062",
     "status": "completed"
    },
    "tags": []
   },
   "source": [
    "## 5. Voting\n",
    "Here, we create pipelines for four models that we use, and we tried all sorts of combinations. The conclusion is that we get the best LB result with a combination of the Decision Tree model and with the Naive Bayes classification model."
   ]
  },
  {
   "cell_type": "code",
   "execution_count": 36,
   "metadata": {
    "execution": {
     "iopub.execute_input": "2020-12-18T17:39:54.023262Z",
     "iopub.status.busy": "2020-12-18T17:39:54.022568Z",
     "iopub.status.idle": "2020-12-18T17:39:54.329101Z",
     "shell.execute_reply": "2020-12-18T17:39:54.329623Z"
    },
    "papermill": {
     "duration": 0.397815,
     "end_time": "2020-12-18T17:39:54.329762",
     "exception": false,
     "start_time": "2020-12-18T17:39:53.931947",
     "status": "completed"
    },
    "tags": []
   },
   "outputs": [
    {
     "data": {
      "text/plain": [
       "0.8417727840199751"
      ]
     },
     "execution_count": 36,
     "metadata": {},
     "output_type": "execute_result"
    }
   ],
   "source": [
    "LR_pipe = Pipeline([('logReg pipline', full_pipline_LR), \n",
    "                  ('log_reg', log_reg)])\n",
    "\n",
    "cross_val_score(LR_pipe,X,y,cv=10,scoring='accuracy').mean()"
   ]
  },
  {
   "cell_type": "code",
   "execution_count": 37,
   "metadata": {
    "execution": {
     "iopub.execute_input": "2020-12-18T17:39:54.444695Z",
     "iopub.status.busy": "2020-12-18T17:39:54.444096Z",
     "iopub.status.idle": "2020-12-18T17:39:54.550197Z",
     "shell.execute_reply": "2020-12-18T17:39:54.549483Z"
    },
    "papermill": {
     "duration": 0.164169,
     "end_time": "2020-12-18T17:39:54.550328",
     "exception": false,
     "start_time": "2020-12-18T17:39:54.386159",
     "status": "completed"
    },
    "tags": []
   },
   "outputs": [
    {
     "data": {
      "text/plain": [
       "0.7823720349563046"
      ]
     },
     "execution_count": 37,
     "metadata": {},
     "output_type": "execute_result"
    }
   ],
   "source": [
    "NB_pipe = Pipeline([('NaiveBayes pipline', full_pipline_NB), \n",
    "                  ('cat_bayes', cat_bayes)])\n",
    "\n",
    "cross_val_score(NB_pipe,X,y,cv=10,scoring='accuracy').mean()"
   ]
  },
  {
   "cell_type": "code",
   "execution_count": 38,
   "metadata": {
    "execution": {
     "iopub.execute_input": "2020-12-18T17:39:54.719257Z",
     "iopub.status.busy": "2020-12-18T17:39:54.718605Z",
     "iopub.status.idle": "2020-12-18T17:39:54.821043Z",
     "shell.execute_reply": "2020-12-18T17:39:54.821650Z"
    },
    "papermill": {
     "duration": 0.18998,
     "end_time": "2020-12-18T17:39:54.821822",
     "exception": false,
     "start_time": "2020-12-18T17:39:54.631842",
     "status": "completed"
    },
    "tags": []
   },
   "outputs": [
    {
     "data": {
      "text/plain": [
       "0.8327590511860172"
      ]
     },
     "execution_count": 38,
     "metadata": {},
     "output_type": "execute_result"
    }
   ],
   "source": [
    "DT_pipe = Pipeline([('DecisionTree pipline', full_pipline_DT), \n",
    "                  ('Decision Tree', DT_clf)])\n",
    "\n",
    "cross_val_score(DT_pipe,X,y,cv=10,scoring='accuracy').mean()"
   ]
  },
  {
   "cell_type": "code",
   "execution_count": 39,
   "metadata": {
    "execution": {
     "iopub.execute_input": "2020-12-18T17:39:54.992185Z",
     "iopub.status.busy": "2020-12-18T17:39:54.991365Z",
     "iopub.status.idle": "2020-12-18T17:39:55.247329Z",
     "shell.execute_reply": "2020-12-18T17:39:55.246354Z"
    },
    "papermill": {
     "duration": 0.34337,
     "end_time": "2020-12-18T17:39:55.247475",
     "exception": false,
     "start_time": "2020-12-18T17:39:54.904105",
     "status": "completed"
    },
    "tags": []
   },
   "outputs": [
    {
     "data": {
      "text/plain": [
       "0.8338826466916354"
      ]
     },
     "execution_count": 39,
     "metadata": {},
     "output_type": "execute_result"
    }
   ],
   "source": [
    "SVM_pipe = Pipeline([('SVM pipline', full_pipline_SVM), \n",
    "                  ('SVM', svm_clf)])\n",
    "\n",
    "cross_val_score(SVM_pipe,X,y,cv=10,scoring='accuracy').mean()"
   ]
  },
  {
   "cell_type": "markdown",
   "metadata": {
    "papermill": {
     "duration": 0.082219,
     "end_time": "2020-12-18T17:39:55.412925",
     "exception": false,
     "start_time": "2020-12-18T17:39:55.330706",
     "status": "completed"
    },
    "tags": []
   },
   "source": [
    "First, we tried all four models, and this wasn't a good idea."
   ]
  },
  {
   "cell_type": "code",
   "execution_count": 40,
   "metadata": {
    "execution": {
     "iopub.execute_input": "2020-12-18T17:39:55.598783Z",
     "iopub.status.busy": "2020-12-18T17:39:55.593753Z",
     "iopub.status.idle": "2020-12-18T17:39:56.370863Z",
     "shell.execute_reply": "2020-12-18T17:39:56.370187Z"
    },
    "papermill": {
     "duration": 0.874879,
     "end_time": "2020-12-18T17:39:56.370997",
     "exception": false,
     "start_time": "2020-12-18T17:39:55.496118",
     "status": "completed"
    },
    "tags": []
   },
   "outputs": [
    {
     "data": {
      "text/plain": [
       "0.8406616729088638"
      ]
     },
     "execution_count": 40,
     "metadata": {},
     "output_type": "execute_result"
    }
   ],
   "source": [
    "voting_clf_4 = VotingClassifier(\n",
    "    estimators = [('Logistic Regresion',LR_pipe),('SVM',SVM_pipe),('Naive Bayes',NB_pipe),('Decision Tree',DT_pipe)],\n",
    "    voting = 'hard'\n",
    ")\n",
    "\n",
    "cross_val_score(voting_clf_4,X,y,cv=10,scoring='accuracy').mean()"
   ]
  },
  {
   "cell_type": "markdown",
   "metadata": {
    "papermill": {
     "duration": 0.057738,
     "end_time": "2020-12-18T17:39:56.486209",
     "exception": false,
     "start_time": "2020-12-18T17:39:56.428471",
     "status": "completed"
    },
    "tags": []
   },
   "source": [
    "This gets us to **0.7994** on the Ladder Board."
   ]
  },
  {
   "cell_type": "code",
   "execution_count": 41,
   "metadata": {
    "execution": {
     "iopub.execute_input": "2020-12-18T17:39:56.608346Z",
     "iopub.status.busy": "2020-12-18T17:39:56.607405Z",
     "iopub.status.idle": "2020-12-18T17:39:56.989173Z",
     "shell.execute_reply": "2020-12-18T17:39:56.988497Z"
    },
    "papermill": {
     "duration": 0.445654,
     "end_time": "2020-12-18T17:39:56.989283",
     "exception": false,
     "start_time": "2020-12-18T17:39:56.543629",
     "status": "completed"
    },
    "tags": []
   },
   "outputs": [
    {
     "data": {
      "text/plain": [
       "0.8350187265917602"
      ]
     },
     "execution_count": 41,
     "metadata": {},
     "output_type": "execute_result"
    }
   ],
   "source": [
    "voting_clf_SVM_DT = VotingClassifier(\n",
    "    estimators = [('SVM',SVM_pipe),('Decision Tree',DT_pipe)],\n",
    "    voting = 'hard'\n",
    ")\n",
    "\n",
    "cross_val_score(voting_clf_SVM_DT,X,y,cv=10,scoring='accuracy').mean()"
   ]
  },
  {
   "cell_type": "markdown",
   "metadata": {
    "papermill": {
     "duration": 0.082589,
     "end_time": "2020-12-18T17:39:57.129124",
     "exception": false,
     "start_time": "2020-12-18T17:39:57.046535",
     "status": "completed"
    },
    "tags": []
   },
   "source": [
    "This assembly of SVM and DT models gives us improvment to **0.8205**"
   ]
  },
  {
   "cell_type": "code",
   "execution_count": 42,
   "metadata": {
    "execution": {
     "iopub.execute_input": "2020-12-18T17:39:57.316481Z",
     "iopub.status.busy": "2020-12-18T17:39:57.315467Z",
     "iopub.status.idle": "2020-12-18T17:39:57.542568Z",
     "shell.execute_reply": "2020-12-18T17:39:57.543260Z"
    },
    "papermill": {
     "duration": 0.322818,
     "end_time": "2020-12-18T17:39:57.543415",
     "exception": false,
     "start_time": "2020-12-18T17:39:57.220597",
     "status": "completed"
    },
    "tags": []
   },
   "outputs": [
    {
     "data": {
      "text/plain": [
       "0.8316853932584269"
      ]
     },
     "execution_count": 42,
     "metadata": {},
     "output_type": "execute_result"
    }
   ],
   "source": [
    "voting_clf_NB_DT = VotingClassifier(\n",
    "    estimators = [('Naive Bayes',NB_pipe),('Decision Tree',DT_pipe)],\n",
    "    voting = 'hard'\n",
    ")\n",
    "cross_val_score(voting_clf_NB_DT,X,y,cv=10,scoring='accuracy').mean()"
   ]
  },
  {
   "cell_type": "markdown",
   "metadata": {
    "papermill": {
     "duration": 0.058911,
     "end_time": "2020-12-18T17:39:57.666102",
     "exception": false,
     "start_time": "2020-12-18T17:39:57.607191",
     "status": "completed"
    },
    "tags": []
   },
   "source": [
    "Naive Bayes with Decision Tree gets us to **0.82535**"
   ]
  },
  {
   "cell_type": "markdown",
   "metadata": {
    "papermill": {
     "duration": 0.057634,
     "end_time": "2020-12-18T17:39:57.780912",
     "exception": false,
     "start_time": "2020-12-18T17:39:57.723278",
     "status": "completed"
    },
    "tags": []
   },
   "source": [
    "# Output"
   ]
  },
  {
   "cell_type": "code",
   "execution_count": 43,
   "metadata": {
    "execution": {
     "iopub.execute_input": "2020-12-18T17:39:57.890906Z",
     "iopub.status.busy": "2020-12-18T17:39:57.890276Z",
     "iopub.status.idle": "2020-12-18T17:39:57.896390Z",
     "shell.execute_reply": "2020-12-18T17:39:57.895780Z"
    },
    "papermill": {
     "duration": 0.063591,
     "end_time": "2020-12-18T17:39:57.896503",
     "exception": false,
     "start_time": "2020-12-18T17:39:57.832912",
     "status": "completed"
    },
    "tags": []
   },
   "outputs": [],
   "source": [
    "X_test = test_data.drop(columns=['Survived'])"
   ]
  },
  {
   "cell_type": "code",
   "execution_count": 44,
   "metadata": {
    "_kg_hide-output": true,
    "execution": {
     "iopub.execute_input": "2020-12-18T17:39:58.031161Z",
     "iopub.status.busy": "2020-12-18T17:39:58.027896Z",
     "iopub.status.idle": "2020-12-18T17:39:58.177633Z",
     "shell.execute_reply": "2020-12-18T17:39:58.178137Z"
    },
    "papermill": {
     "duration": 0.221662,
     "end_time": "2020-12-18T17:39:58.178282",
     "exception": false,
     "start_time": "2020-12-18T17:39:57.956620",
     "status": "completed"
    },
    "tags": []
   },
   "outputs": [
    {
     "data": {
      "text/plain": [
       "VotingClassifier(estimators=[('Naive Bayes',\n",
       "                              Pipeline(steps=[('NaiveBayes pipline',\n",
       "                                               ColumnTransformer(transformers=[('cat',\n",
       "                                                                                OrdinalEncoder(),\n",
       "                                                                                ['Title']),\n",
       "                                                                               ('num',\n",
       "                                                                                'passthrough',\n",
       "                                                                                ['FareBin_Code',\n",
       "                                                                                 'AgeBin_Code']),\n",
       "                                                                               ('drop',\n",
       "                                                                                'drop',\n",
       "                                                                                ['Parch',\n",
       "                                                                                 'TicketGroup',\n",
       "                                                                                 'TicketNumber',\n",
       "                                                                                 'Age',\n",
       "                                                                                 'Sex',\n",
       "                                                                                 'SibSp',\n",
       "                                                                                 'Srate',\n",
       "                                                                                 'Embarked',\n",
       "                                                                                 'Fare',\n",
       "                                                                                 'FamilySize',\n",
       "                                                                                 'Pclass'])])),\n",
       "                                              ('cat_bayes',\n",
       "                                               Categorical...\n",
       "                                               ColumnTransformer(transformers=[('droping',\n",
       "                                                                                'drop',\n",
       "                                                                                ['Title',\n",
       "                                                                                 'Parch',\n",
       "                                                                                 'TicketGroup',\n",
       "                                                                                 'TicketNumber',\n",
       "                                                                                 'Age',\n",
       "                                                                                 'SibSp',\n",
       "                                                                                 'Embarked',\n",
       "                                                                                 'Fare']),\n",
       "                                                                               ('num',\n",
       "                                                                                'passthrough',\n",
       "                                                                                ['Pclass',\n",
       "                                                                                 'FamilySize',\n",
       "                                                                                 'Srate',\n",
       "                                                                                 'AgeBin_Code',\n",
       "                                                                                 'FareBin_Code']),\n",
       "                                                                               ('cat',\n",
       "                                                                                OrdinalEncoder(),\n",
       "                                                                                ['Sex'])])),\n",
       "                                              ('Decision Tree',\n",
       "                                               DecisionTreeClassifier(criterion='entropy',\n",
       "                                                                      max_depth=5,\n",
       "                                                                      max_features=6,\n",
       "                                                                      random_state=1,\n",
       "                                                                      splitter='random'))]))])"
      ]
     },
     "execution_count": 44,
     "metadata": {},
     "output_type": "execute_result"
    }
   ],
   "source": [
    "voting_clf_NB_DT.fit(X,y)"
   ]
  },
  {
   "cell_type": "code",
   "execution_count": 45,
   "metadata": {
    "execution": {
     "iopub.execute_input": "2020-12-18T17:39:58.313077Z",
     "iopub.status.busy": "2020-12-18T17:39:58.308679Z",
     "iopub.status.idle": "2020-12-18T17:39:58.327588Z",
     "shell.execute_reply": "2020-12-18T17:39:58.326170Z"
    },
    "papermill": {
     "duration": 0.089911,
     "end_time": "2020-12-18T17:39:58.327724",
     "exception": false,
     "start_time": "2020-12-18T17:39:58.237813",
     "status": "completed"
    },
    "tags": []
   },
   "outputs": [],
   "source": [
    "predictions = voting_clf_NB_DT.predict(X_test)\n",
    "predictions = pd.to_numeric(predictions, downcast='integer')\n",
    "output = pd.DataFrame({'PassengerId': list(X_test.index), 'Survived': predictions})"
   ]
  },
  {
   "cell_type": "code",
   "execution_count": 46,
   "metadata": {
    "_kg_hide-output": true,
    "execution": {
     "iopub.execute_input": "2020-12-18T17:39:58.459600Z",
     "iopub.status.busy": "2020-12-18T17:39:58.458694Z",
     "iopub.status.idle": "2020-12-18T17:39:58.463667Z",
     "shell.execute_reply": "2020-12-18T17:39:58.462921Z"
    },
    "papermill": {
     "duration": 0.072378,
     "end_time": "2020-12-18T17:39:58.463778",
     "exception": false,
     "start_time": "2020-12-18T17:39:58.391400",
     "status": "completed"
    },
    "tags": []
   },
   "outputs": [
    {
     "name": "stdout",
     "output_type": "stream",
     "text": [
      "/kaggle/working\n"
     ]
    }
   ],
   "source": [
    "cd /kaggle/working"
   ]
  },
  {
   "cell_type": "code",
   "execution_count": 47,
   "metadata": {
    "execution": {
     "iopub.execute_input": "2020-12-18T17:39:58.591568Z",
     "iopub.status.busy": "2020-12-18T17:39:58.591021Z",
     "iopub.status.idle": "2020-12-18T17:39:58.910539Z",
     "shell.execute_reply": "2020-12-18T17:39:58.909912Z"
    },
    "papermill": {
     "duration": 0.383924,
     "end_time": "2020-12-18T17:39:58.910648",
     "exception": false,
     "start_time": "2020-12-18T17:39:58.526724",
     "status": "completed"
    },
    "tags": []
   },
   "outputs": [],
   "source": [
    "output.to_csv('Submission_NB_DT.csv', index=False)"
   ]
  }
 ],
 "metadata": {
  "kernelspec": {
   "display_name": "Python 3",
   "language": "python",
   "name": "python3"
  },
  "language_info": {
   "codemirror_mode": {
    "name": "ipython",
    "version": 3
   },
   "file_extension": ".py",
   "mimetype": "text/x-python",
   "name": "python",
   "nbconvert_exporter": "python",
   "pygments_lexer": "ipython3",
   "version": "3.9.1"
  },
  "papermill": {
   "duration": 48.864093,
   "end_time": "2020-12-18T17:39:59.078124",
   "environment_variables": {},
   "exception": null,
   "input_path": "__notebook__.ipynb",
   "output_path": "__notebook__.ipynb",
   "parameters": {},
   "start_time": "2020-12-18T17:39:10.214031",
   "version": "2.1.0"
  }
 },
 "nbformat": 4,
 "nbformat_minor": 4
}
