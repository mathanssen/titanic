{
 "cells": [
  {
   "cell_type": "markdown",
   "id": "adaptive-referral",
   "metadata": {},
   "source": [
    "# 1. Importing Libraries"
   ]
  },
  {
   "cell_type": "code",
   "execution_count": 1,
   "id": "geographic-hurricane",
   "metadata": {},
   "outputs": [],
   "source": [
    "# Main\n",
    "import numpy as np\n",
    "import pandas as pd\n",
    "\n",
    "# Data Visualization\n",
    "import seaborn as sns\n",
    "from matplotlib import pyplot as plt\n",
    "%matplotlib inline\n",
    "\n",
    "# Prediction\n",
    "from sklearn.neighbors import KNeighborsClassifier\n",
    "from sklearn.tree import DecisionTreeClassifier\n",
    "from sklearn.ensemble import RandomForestClassifier\n",
    "from sklearn.naive_bayes import GaussianNB\n",
    "from sklearn.svm import SVC, LinearSVC\n",
    "from sklearn.linear_model import LogisticRegression\n",
    "from xgboost import XGBClassifier\n",
    "from sklearn.metrics import make_scorer, accuracy_score\n",
    "from sklearn.model_selection import KFold, cross_val_score, GridSearchCV, train_test_split\n",
    "from sklearn.ensemble import StackingClassifier\n",
    "\n",
    "# Other\n",
    "import warnings\n",
    "warnings.filterwarnings(\"ignore\")"
   ]
  },
  {
   "cell_type": "markdown",
   "id": "searching-criterion",
   "metadata": {},
   "source": [
    "# 2. Import Data"
   ]
  },
  {
   "cell_type": "code",
   "execution_count": 1,
   "id": "approved-shore",
   "metadata": {},
   "outputs": [
    {
     "ename": "NameError",
     "evalue": "name 'pd' is not defined",
     "output_type": "error",
     "traceback": [
      "\u001b[1;31m---------------------------------------------------------------------------\u001b[0m",
      "\u001b[1;31mNameError\u001b[0m                                 Traceback (most recent call last)",
      "\u001b[1;32m<ipython-input-1-dc02874a8bb2>\u001b[0m in \u001b[0;36m<module>\u001b[1;34m\u001b[0m\n\u001b[1;32m----> 1\u001b[1;33m \u001b[0mtrain\u001b[0m \u001b[1;33m=\u001b[0m \u001b[0mpd\u001b[0m\u001b[1;33m.\u001b[0m\u001b[0mread_csv\u001b[0m\u001b[1;33m(\u001b[0m\u001b[1;34mr\"../data/train.csv\"\u001b[0m\u001b[1;33m)\u001b[0m\u001b[1;33m\u001b[0m\u001b[1;33m\u001b[0m\u001b[0m\n\u001b[0m\u001b[0;32m      2\u001b[0m \u001b[0mtest\u001b[0m \u001b[1;33m=\u001b[0m \u001b[0mpd\u001b[0m\u001b[1;33m.\u001b[0m\u001b[0mread_csv\u001b[0m\u001b[1;33m(\u001b[0m\u001b[1;34mr\"../data/test.csv\"\u001b[0m\u001b[1;33m)\u001b[0m\u001b[1;33m\u001b[0m\u001b[1;33m\u001b[0m\u001b[0m\n\u001b[0;32m      3\u001b[0m \u001b[1;33m\u001b[0m\u001b[0m\n\u001b[0;32m      4\u001b[0m \u001b[1;31m# Create a list to do same tasks for both dataframe\u001b[0m\u001b[1;33m\u001b[0m\u001b[1;33m\u001b[0m\u001b[1;33m\u001b[0m\u001b[0m\n\u001b[0;32m      5\u001b[0m \u001b[0mdf_list\u001b[0m \u001b[1;33m=\u001b[0m \u001b[1;33m[\u001b[0m\u001b[0mtrain\u001b[0m\u001b[1;33m,\u001b[0m \u001b[0mtest\u001b[0m\u001b[1;33m]\u001b[0m\u001b[1;33m\u001b[0m\u001b[1;33m\u001b[0m\u001b[0m\n",
      "\u001b[1;31mNameError\u001b[0m: name 'pd' is not defined"
     ]
    }
   ],
   "source": [
    "train = pd.read_csv(r\"../data/train.csv\")\n",
    "test = pd.read_csv(r\"../data/test.csv\")\n",
    "\n",
    "# Create a list to do same tasks for both dataframe\n",
    "df_list = [train, test]"
   ]
  },
  {
   "cell_type": "markdown",
   "id": "permanent-launch",
   "metadata": {},
   "source": [
    "# 3. Exploratory Data Analysis"
   ]
  },
  {
   "cell_type": "code",
   "execution_count": 3,
   "id": "continuous-seattle",
   "metadata": {},
   "outputs": [
    {
     "data": {
      "text/html": [
       "<div>\n",
       "<style scoped>\n",
       "    .dataframe tbody tr th:only-of-type {\n",
       "        vertical-align: middle;\n",
       "    }\n",
       "\n",
       "    .dataframe tbody tr th {\n",
       "        vertical-align: top;\n",
       "    }\n",
       "\n",
       "    .dataframe thead th {\n",
       "        text-align: right;\n",
       "    }\n",
       "</style>\n",
       "<table border=\"1\" class=\"dataframe\">\n",
       "  <thead>\n",
       "    <tr style=\"text-align: right;\">\n",
       "      <th></th>\n",
       "      <th>Total Missing</th>\n",
       "      <th>% Missing</th>\n",
       "    </tr>\n",
       "  </thead>\n",
       "  <tbody>\n",
       "    <tr>\n",
       "      <th>PassengerId</th>\n",
       "      <td>0</td>\n",
       "      <td>0.0</td>\n",
       "    </tr>\n",
       "    <tr>\n",
       "      <th>Survived</th>\n",
       "      <td>0</td>\n",
       "      <td>0.0</td>\n",
       "    </tr>\n",
       "    <tr>\n",
       "      <th>Pclass</th>\n",
       "      <td>0</td>\n",
       "      <td>0.0</td>\n",
       "    </tr>\n",
       "    <tr>\n",
       "      <th>Name</th>\n",
       "      <td>0</td>\n",
       "      <td>0.0</td>\n",
       "    </tr>\n",
       "    <tr>\n",
       "      <th>Sex</th>\n",
       "      <td>0</td>\n",
       "      <td>0.0</td>\n",
       "    </tr>\n",
       "    <tr>\n",
       "      <th>Age</th>\n",
       "      <td>177</td>\n",
       "      <td>19.9</td>\n",
       "    </tr>\n",
       "    <tr>\n",
       "      <th>SibSp</th>\n",
       "      <td>0</td>\n",
       "      <td>0.0</td>\n",
       "    </tr>\n",
       "    <tr>\n",
       "      <th>Parch</th>\n",
       "      <td>0</td>\n",
       "      <td>0.0</td>\n",
       "    </tr>\n",
       "    <tr>\n",
       "      <th>Ticket</th>\n",
       "      <td>0</td>\n",
       "      <td>0.0</td>\n",
       "    </tr>\n",
       "    <tr>\n",
       "      <th>Fare</th>\n",
       "      <td>0</td>\n",
       "      <td>0.0</td>\n",
       "    </tr>\n",
       "    <tr>\n",
       "      <th>Cabin</th>\n",
       "      <td>687</td>\n",
       "      <td>77.1</td>\n",
       "    </tr>\n",
       "    <tr>\n",
       "      <th>Embarked</th>\n",
       "      <td>2</td>\n",
       "      <td>0.2</td>\n",
       "    </tr>\n",
       "  </tbody>\n",
       "</table>\n",
       "</div>"
      ],
      "text/plain": [
       "             Total Missing  % Missing\n",
       "PassengerId              0        0.0\n",
       "Survived                 0        0.0\n",
       "Pclass                   0        0.0\n",
       "Name                     0        0.0\n",
       "Sex                      0        0.0\n",
       "Age                    177       19.9\n",
       "SibSp                    0        0.0\n",
       "Parch                    0        0.0\n",
       "Ticket                   0        0.0\n",
       "Fare                     0        0.0\n",
       "Cabin                  687       77.1\n",
       "Embarked                 2        0.2"
      ]
     },
     "execution_count": 3,
     "metadata": {},
     "output_type": "execute_result"
    }
   ],
   "source": [
    "# Missing data in training dataframe\n",
    "missing = train.isnull().sum()\n",
    "missing_percentage = train.isnull().sum() / train.isnull().count() * 100\n",
    "missing_percentage = round(missing_percentage, 1)\n",
    "missing_data = pd.concat([missing, missing_percentage], axis=1, keys=['Total Missing', '% Missing'])\n",
    "missing_data"
   ]
  },
  {
   "cell_type": "code",
   "execution_count": 4,
   "id": "waiting-philadelphia",
   "metadata": {},
   "outputs": [
    {
     "data": {
      "text/html": [
       "<div>\n",
       "<style scoped>\n",
       "    .dataframe tbody tr th:only-of-type {\n",
       "        vertical-align: middle;\n",
       "    }\n",
       "\n",
       "    .dataframe tbody tr th {\n",
       "        vertical-align: top;\n",
       "    }\n",
       "\n",
       "    .dataframe thead th {\n",
       "        text-align: right;\n",
       "    }\n",
       "</style>\n",
       "<table border=\"1\" class=\"dataframe\">\n",
       "  <thead>\n",
       "    <tr style=\"text-align: right;\">\n",
       "      <th></th>\n",
       "      <th>Total Missing</th>\n",
       "      <th>% Missing</th>\n",
       "    </tr>\n",
       "  </thead>\n",
       "  <tbody>\n",
       "    <tr>\n",
       "      <th>PassengerId</th>\n",
       "      <td>0</td>\n",
       "      <td>0.0</td>\n",
       "    </tr>\n",
       "    <tr>\n",
       "      <th>Pclass</th>\n",
       "      <td>0</td>\n",
       "      <td>0.0</td>\n",
       "    </tr>\n",
       "    <tr>\n",
       "      <th>Name</th>\n",
       "      <td>0</td>\n",
       "      <td>0.0</td>\n",
       "    </tr>\n",
       "    <tr>\n",
       "      <th>Sex</th>\n",
       "      <td>0</td>\n",
       "      <td>0.0</td>\n",
       "    </tr>\n",
       "    <tr>\n",
       "      <th>Age</th>\n",
       "      <td>86</td>\n",
       "      <td>20.6</td>\n",
       "    </tr>\n",
       "    <tr>\n",
       "      <th>SibSp</th>\n",
       "      <td>0</td>\n",
       "      <td>0.0</td>\n",
       "    </tr>\n",
       "    <tr>\n",
       "      <th>Parch</th>\n",
       "      <td>0</td>\n",
       "      <td>0.0</td>\n",
       "    </tr>\n",
       "    <tr>\n",
       "      <th>Ticket</th>\n",
       "      <td>0</td>\n",
       "      <td>0.0</td>\n",
       "    </tr>\n",
       "    <tr>\n",
       "      <th>Fare</th>\n",
       "      <td>1</td>\n",
       "      <td>0.2</td>\n",
       "    </tr>\n",
       "    <tr>\n",
       "      <th>Cabin</th>\n",
       "      <td>327</td>\n",
       "      <td>78.2</td>\n",
       "    </tr>\n",
       "    <tr>\n",
       "      <th>Embarked</th>\n",
       "      <td>0</td>\n",
       "      <td>0.0</td>\n",
       "    </tr>\n",
       "  </tbody>\n",
       "</table>\n",
       "</div>"
      ],
      "text/plain": [
       "             Total Missing  % Missing\n",
       "PassengerId              0        0.0\n",
       "Pclass                   0        0.0\n",
       "Name                     0        0.0\n",
       "Sex                      0        0.0\n",
       "Age                     86       20.6\n",
       "SibSp                    0        0.0\n",
       "Parch                    0        0.0\n",
       "Ticket                   0        0.0\n",
       "Fare                     1        0.2\n",
       "Cabin                  327       78.2\n",
       "Embarked                 0        0.0"
      ]
     },
     "execution_count": 4,
     "metadata": {},
     "output_type": "execute_result"
    }
   ],
   "source": [
    "# Missing data in test dataframe\n",
    "missing = test.isnull().sum()\n",
    "missing_percentage = test.isnull().sum() / test.isnull().count() * 100\n",
    "missing_percentage = round(missing_percentage, 1)\n",
    "missing_data = pd.concat([missing, missing_percentage], axis=1, keys=['Total Missing', '% Missing'])\n",
    "missing_data"
   ]
  },
  {
   "cell_type": "markdown",
   "id": "mineral-surgeon",
   "metadata": {},
   "source": [
    "# 4. Feature Engineering"
   ]
  },
  {
   "cell_type": "markdown",
   "id": "animated-manchester",
   "metadata": {},
   "source": [
    "### 4.1. Sex"
   ]
  },
  {
   "cell_type": "code",
   "execution_count": 5,
   "id": "copyrighted-plymouth",
   "metadata": {},
   "outputs": [],
   "source": [
    "sex_dict = {\"male\": 0, \"female\": 1}\n",
    "for df in df_list:\n",
    "    df[\"Sex\"] = df[\"Sex\"].map(sex_dict)"
   ]
  },
  {
   "cell_type": "markdown",
   "id": "centered-street",
   "metadata": {},
   "source": [
    "### 4.2. Embarked"
   ]
  },
  {
   "cell_type": "code",
   "execution_count": 6,
   "id": "recorded-things",
   "metadata": {},
   "outputs": [],
   "source": [
    "train[\"Embarked\"].fillna(\"S\", inplace=True)\n",
    "test[\"Fare\"].fillna(test[\"Fare\"].median(), inplace=True)"
   ]
  },
  {
   "cell_type": "code",
   "execution_count": 7,
   "id": "bibliographic-richardson",
   "metadata": {},
   "outputs": [],
   "source": [
    "embarked_dict = {\"S\": 0, \"C\": 1, \"Q\": 2}\n",
    "for df in df_list:\n",
    "    df['Embarked'] = df['Embarked'].map(embarked_dict)"
   ]
  },
  {
   "cell_type": "markdown",
   "id": "modular-alignment",
   "metadata": {},
   "source": [
    "### 4.3. Family Size"
   ]
  },
  {
   "cell_type": "code",
   "execution_count": 8,
   "id": "peaceful-expression",
   "metadata": {},
   "outputs": [],
   "source": [
    "for df in df_list:\n",
    "    df[\"FamSize\"] = df[\"SibSp\"] + df[\"Parch\"] + 1\n",
    "    df[\"FamSize\"] = df[\"SibSp\"] + df[\"Parch\"] + 1\n",
    "    df[\"isAlone\"] = df.FamSize.apply(lambda x: 1 if x == 1 else 0)"
   ]
  },
  {
   "cell_type": "code",
   "execution_count": 9,
   "id": "assumed-launch",
   "metadata": {},
   "outputs": [],
   "source": [
    "for df in df_list:\n",
    "    df['Title'] = df['Name'].str.extract(' ([A-Za-z]+)\\.', expand=False)"
   ]
  },
  {
   "cell_type": "markdown",
   "id": "moved-douglas",
   "metadata": {},
   "source": [
    "### 4.4. Name"
   ]
  },
  {
   "cell_type": "code",
   "execution_count": 10,
   "id": "available-vertical",
   "metadata": {},
   "outputs": [],
   "source": [
    "title_dict = {\"Mr\": 0, \"Miss\": 1, \"Mrs\": 2, \n",
    "                 \"Master\": 3, \"Dr\": 3, \"Rev\": 3, \"Col\": 3, \"Major\": 3, \"Mlle\": 3,\"Countess\": 3,\n",
    "                 \"Ms\": 3, \"Lady\": 3, \"Jonkheer\": 3, \"Don\": 3, \"Dona\" : 3, \"Mme\": 3,\"Capt\": 3,\"Sir\": 3 }\n",
    "for df in df_list:\n",
    "    df['Title'] = df['Title'].map(title_dict)"
   ]
  },
  {
   "cell_type": "markdown",
   "id": "third-character",
   "metadata": {},
   "source": [
    "### 4.5. Age"
   ]
  },
  {
   "cell_type": "code",
   "execution_count": 11,
   "id": "radical-pursuit",
   "metadata": {},
   "outputs": [],
   "source": [
    "# fill missing age with median age for each title (Mr, Mrs, Miss, Others)\n",
    "train[\"Age\"].fillna(train.groupby(\"Title\")[\"Age\"].transform(\"median\"), inplace=True)\n",
    "test[\"Age\"].fillna(test.groupby(\"Title\")[\"Age\"].transform(\"median\"), inplace=True)"
   ]
  },
  {
   "cell_type": "code",
   "execution_count": 12,
   "id": "atmospheric-differential",
   "metadata": {},
   "outputs": [],
   "source": [
    "def calc_age(row):\n",
    "    if row.Age <= 16:\n",
    "        age = 0\n",
    "    elif (row.Age > 16 and row.Age <= 26):\n",
    "        age = 1\n",
    "    elif (row.Age > 26 and row.Age <= 36):\n",
    "        age = 2\n",
    "    elif (row.Age > 36 and row.Age <= 62):\n",
    "        age = 3\n",
    "    else:\n",
    "        age = 4\n",
    "    \n",
    "    return age\n",
    "    \n",
    "for df in df_list:\n",
    "    df[\"Age\"] = df.apply(calc_age, axis=1)"
   ]
  },
  {
   "cell_type": "markdown",
   "id": "rural-seattle",
   "metadata": {},
   "source": [
    "### 4.6. Final Adjustments"
   ]
  },
  {
   "cell_type": "code",
   "execution_count": 13,
   "id": "accurate-rally",
   "metadata": {},
   "outputs": [],
   "source": [
    "# Drop unecessary variables\n",
    "features_drop = ['Ticket', 'SibSp', 'Parch', 'Name', \"Cabin\"]\n",
    "\n",
    "train = train.drop(features_drop, axis=1)\n",
    "train = train.drop(['PassengerId'], axis=1)\n",
    "\n",
    "test = test.drop(features_drop, axis=1)"
   ]
  },
  {
   "cell_type": "code",
   "execution_count": 14,
   "id": "inclusive-cameroon",
   "metadata": {},
   "outputs": [],
   "source": [
    "train_data = train.drop('Survived', axis=1)\n",
    "target = train['Survived']"
   ]
  },
  {
   "cell_type": "markdown",
   "id": "coupled-planner",
   "metadata": {},
   "source": [
    "# 5. Modelling"
   ]
  },
  {
   "cell_type": "markdown",
   "id": "graphic-reward",
   "metadata": {},
   "source": [
    "### 5.1. Pre-Modelling Adjustments"
   ]
  },
  {
   "cell_type": "markdown",
   "id": "qualified-dublin",
   "metadata": {},
   "source": [
    "#### 5.1.1 Cross Validation (K-Fold)"
   ]
  },
  {
   "cell_type": "code",
   "execution_count": 15,
   "id": "phantom-encyclopedia",
   "metadata": {},
   "outputs": [],
   "source": [
    "k_fold = KFold(n_splits=10, shuffle=True, random_state=0)"
   ]
  },
  {
   "cell_type": "markdown",
   "id": "electrical-florida",
   "metadata": {},
   "source": [
    "#### 5.1.2. Split Data"
   ]
  },
  {
   "cell_type": "code",
   "execution_count": 26,
   "id": "virtual-article",
   "metadata": {},
   "outputs": [],
   "source": [
    "features = ['Pclass', 'Sex', 'Age', 'Fare', 'Embarked', 'FamSize','isAlone', 'Title']\n",
    "X_train = train[features] \n",
    "y_train = train[\"Survived\"] \n",
    "X_test = test[features]\n",
    "\n",
    "X_training, X_valid, y_training, y_valid = train_test_split(X_train, y_train, test_size=0.2, random_state=0)"
   ]
  },
  {
   "cell_type": "markdown",
   "id": "checked-stand",
   "metadata": {},
   "source": [
    "### 5.2. Prediction"
   ]
  },
  {
   "cell_type": "markdown",
   "id": "classical-lafayette",
   "metadata": {},
   "source": [
    "#### 5.2.1. SVC"
   ]
  },
  {
   "cell_type": "code",
   "execution_count": 17,
   "id": "lonely-elements",
   "metadata": {},
   "outputs": [
    {
     "name": "stdout",
     "output_type": "stream",
     "text": [
      "[0.66666667 0.76404494 0.69662921 0.59550562 0.75280899 0.70786517\n",
      " 0.70786517 0.6741573  0.59550562 0.64044944]\n",
      "\n",
      "Score: 68.01\n"
     ]
    }
   ],
   "source": [
    "svc = SVC(random_state=1)\n",
    "scoring = \"accuracy\"\n",
    "score = cross_val_score(svc, X_train, y_train, cv=k_fold, n_jobs=1, scoring=scoring)\n",
    "print(score)\n",
    "acc_svc = round(np.mean(score)*100, 2)\n",
    "print(\"\\nScore:\", acc_svc)"
   ]
  },
  {
   "cell_type": "markdown",
   "id": "registered-pillow",
   "metadata": {},
   "source": [
    "#### 5.2.2. kNN"
   ]
  },
  {
   "cell_type": "code",
   "execution_count": 18,
   "id": "motivated-routine",
   "metadata": {},
   "outputs": [
    {
     "name": "stdout",
     "output_type": "stream",
     "text": [
      "[0.74444444 0.7752809  0.73033708 0.75280899 0.76404494 0.75280899\n",
      " 0.7752809  0.7752809  0.75280899 0.80898876]\n",
      "\n",
      "Score: 76.32\n"
     ]
    }
   ],
   "source": [
    "knn = KNeighborsClassifier(n_neighbors = 13)\n",
    "scoring = \"accuracy\"\n",
    "score = cross_val_score(knn, X_train, y_train, cv=k_fold, n_jobs=1, scoring=scoring)\n",
    "print(score)\n",
    "acc_knn = round(np.mean(score)*100, 2)\n",
    "print(\"\\nScore:\", acc_knn)"
   ]
  },
  {
   "cell_type": "markdown",
   "id": "placed-column",
   "metadata": {},
   "source": [
    "#### 5.2.3. Decision Tree"
   ]
  },
  {
   "cell_type": "code",
   "execution_count": 19,
   "id": "excessive-cloud",
   "metadata": {},
   "outputs": [
    {
     "name": "stdout",
     "output_type": "stream",
     "text": [
      "[0.76666667 0.7752809  0.80898876 0.7752809  0.79775281 0.78651685\n",
      " 0.84269663 0.80898876 0.76404494 0.82022472]\n",
      "\n",
      "Score: 79.46\n"
     ]
    }
   ],
   "source": [
    "dc = DecisionTreeClassifier(random_state=1)\n",
    "scoring = \"accuracy\"\n",
    "score = cross_val_score(dc, X_train, y_train, cv=k_fold, n_jobs=1, scoring = scoring)\n",
    "print(score)\n",
    "acc_dt = round(np.mean(score)*100, 2)\n",
    "print(\"\\nScore:\", acc_dt)"
   ]
  },
  {
   "cell_type": "markdown",
   "id": "english-legislation",
   "metadata": {},
   "source": [
    "#### 5.2.4. Random Forest"
   ]
  },
  {
   "cell_type": "code",
   "execution_count": 20,
   "id": "adopted-sampling",
   "metadata": {},
   "outputs": [
    {
     "name": "stdout",
     "output_type": "stream",
     "text": [
      "[0.76666667 0.84269663 0.79775281 0.83146067 0.80898876 0.78651685\n",
      " 0.76404494 0.82022472 0.7752809  0.79775281]\n",
      "\n",
      "Score: 79.91\n"
     ]
    }
   ],
   "source": [
    "rf = RandomForestClassifier(random_state=1, n_estimators=13)\n",
    "scoring = \"accuracy\"\n",
    "score = cross_val_score(rf, X_train, y_train, cv=k_fold, n_jobs=1, scoring=scoring)\n",
    "print(score)\n",
    "acc_rf = round(np.mean(score)*100, 2)\n",
    "print(\"\\nScore:\", acc_rf)"
   ]
  },
  {
   "cell_type": "markdown",
   "id": "surgical-spain",
   "metadata": {},
   "source": [
    "#### 5.2.5. Naive Bayes"
   ]
  },
  {
   "cell_type": "code",
   "execution_count": 21,
   "id": "arbitrary-gothic",
   "metadata": {},
   "outputs": [
    {
     "name": "stdout",
     "output_type": "stream",
     "text": [
      "[0.81111111 0.76404494 0.80898876 0.78651685 0.79775281 0.82022472\n",
      " 0.84269663 0.82022472 0.82022472 0.85393258]\n",
      "\n",
      "Score: 81.26\n"
     ]
    }
   ],
   "source": [
    "gnb = GaussianNB()\n",
    "scoring = \"accuracy\"\n",
    "score = cross_val_score(gnb, X_train, y_train, cv=k_fold, n_jobs=1, scoring=scoring)\n",
    "print(score)\n",
    "acc_gnb = round(np.mean(score)*100, 2)\n",
    "print(\"\\nScore:\", acc_gnb)"
   ]
  },
  {
   "cell_type": "markdown",
   "id": "marine-distinction",
   "metadata": {},
   "source": [
    "#### 5.2.6. Linear SVC"
   ]
  },
  {
   "cell_type": "code",
   "execution_count": 22,
   "id": "elementary-algeria",
   "metadata": {
    "scrolled": true
   },
   "outputs": [
    {
     "name": "stdout",
     "output_type": "stream",
     "text": [
      "[0.82222222 0.7752809  0.79775281 0.78651685 0.79775281 0.83146067\n",
      " 0.80898876 0.83146067 0.85393258 0.83146067]\n",
      "\n",
      "Score: 81.37\n"
     ]
    }
   ],
   "source": [
    "linear_svc = LinearSVC(random_state=1)\n",
    "scoring = \"accuracy\"\n",
    "score = cross_val_score(linear_svc, X_train, y_train, cv=k_fold, n_jobs=1, scoring=scoring)\n",
    "print(score)\n",
    "acc_linsvc = round(np.mean(score)*100, 2)\n",
    "print(\"\\nScore:\", acc_linsvc)"
   ]
  },
  {
   "cell_type": "markdown",
   "id": "hindu-parcel",
   "metadata": {},
   "source": [
    "#### 5.2.7. Logistic Regression"
   ]
  },
  {
   "cell_type": "code",
   "execution_count": 23,
   "id": "bright-fancy",
   "metadata": {},
   "outputs": [
    {
     "name": "stdout",
     "output_type": "stream",
     "text": [
      "[0.83333333 0.7752809  0.80898876 0.78651685 0.79775281 0.83146067\n",
      " 0.82022472 0.85393258 0.82022472 0.85393258]\n",
      "\n",
      "Score: 81.82\n"
     ]
    }
   ],
   "source": [
    "logreg = LogisticRegression(random_state=1)\n",
    "scoring = \"accuracy\"\n",
    "score = cross_val_score(logreg, X_train, y_train, cv=k_fold, n_jobs=1, scoring=scoring)\n",
    "print(score)\n",
    "acc_logreg = round(np.mean(score)*100, 2)\n",
    "print(\"\\nScore:\", acc_logreg)"
   ]
  },
  {
   "cell_type": "markdown",
   "id": "retired-thong",
   "metadata": {},
   "source": [
    "#### 5.2.8. XGBoost"
   ]
  },
  {
   "cell_type": "code",
   "execution_count": 24,
   "id": "european-litigation",
   "metadata": {},
   "outputs": [
    {
     "name": "stdout",
     "output_type": "stream",
     "text": [
      "[0.83333333 0.84269663 0.85393258 0.80898876 0.86516854 0.83146067\n",
      " 0.84269663 0.82022472 0.78651685 0.83146067]\n",
      "\n",
      "Score: 83.16\n"
     ]
    }
   ],
   "source": [
    "xgboost = XGBClassifier(random_state=1, objective=\"binary:logistic\", n_estimators=10, eval_metric='mlogloss')\n",
    "scoring = \"accuracy\"\n",
    "score = cross_val_score(xgboost, X_train, y_train, cv=k_fold, n_jobs=1, scoring=scoring)\n",
    "print(score)\n",
    "acc_xg = round(np.mean(score)*100, 2)\n",
    "print(\"\\nScore:\", acc_xg)"
   ]
  },
  {
   "cell_type": "markdown",
   "id": "suffering-toner",
   "metadata": {},
   "source": [
    "### 5.3 Model Performance"
   ]
  },
  {
   "cell_type": "code",
   "execution_count": 25,
   "id": "blocked-equality",
   "metadata": {
    "scrolled": true
   },
   "outputs": [
    {
     "data": {
      "text/html": [
       "<div>\n",
       "<style scoped>\n",
       "    .dataframe tbody tr th:only-of-type {\n",
       "        vertical-align: middle;\n",
       "    }\n",
       "\n",
       "    .dataframe tbody tr th {\n",
       "        vertical-align: top;\n",
       "    }\n",
       "\n",
       "    .dataframe thead th {\n",
       "        text-align: right;\n",
       "    }\n",
       "</style>\n",
       "<table border=\"1\" class=\"dataframe\">\n",
       "  <thead>\n",
       "    <tr style=\"text-align: right;\">\n",
       "      <th></th>\n",
       "      <th>Model</th>\n",
       "      <th>Accuracy</th>\n",
       "    </tr>\n",
       "  </thead>\n",
       "  <tbody>\n",
       "    <tr>\n",
       "      <th>7</th>\n",
       "      <td>XGBClassifier</td>\n",
       "      <td>83.16</td>\n",
       "    </tr>\n",
       "    <tr>\n",
       "      <th>3</th>\n",
       "      <td>Logistic Regression</td>\n",
       "      <td>81.82</td>\n",
       "    </tr>\n",
       "    <tr>\n",
       "      <th>1</th>\n",
       "      <td>Linear SVC</td>\n",
       "      <td>81.37</td>\n",
       "    </tr>\n",
       "    <tr>\n",
       "      <th>5</th>\n",
       "      <td>Gaussian Naive Bayes</td>\n",
       "      <td>81.26</td>\n",
       "    </tr>\n",
       "    <tr>\n",
       "      <th>2</th>\n",
       "      <td>Random Forest</td>\n",
       "      <td>79.91</td>\n",
       "    </tr>\n",
       "    <tr>\n",
       "      <th>6</th>\n",
       "      <td>Decision Tree</td>\n",
       "      <td>79.46</td>\n",
       "    </tr>\n",
       "    <tr>\n",
       "      <th>4</th>\n",
       "      <td>K Nearest Neighbors</td>\n",
       "      <td>76.32</td>\n",
       "    </tr>\n",
       "    <tr>\n",
       "      <th>0</th>\n",
       "      <td>SVC</td>\n",
       "      <td>68.01</td>\n",
       "    </tr>\n",
       "  </tbody>\n",
       "</table>\n",
       "</div>"
      ],
      "text/plain": [
       "                  Model  Accuracy\n",
       "7         XGBClassifier     83.16\n",
       "3   Logistic Regression     81.82\n",
       "1            Linear SVC     81.37\n",
       "5  Gaussian Naive Bayes     81.26\n",
       "2         Random Forest     79.91\n",
       "6         Decision Tree     79.46\n",
       "4   K Nearest Neighbors     76.32\n",
       "0                   SVC     68.01"
      ]
     },
     "execution_count": 25,
     "metadata": {},
     "output_type": "execute_result"
    }
   ],
   "source": [
    "model_performance = pd.DataFrame({\n",
    "    \"Model\": [\"SVC\", \"Linear SVC\", \"Random Forest\", \n",
    "              \"Logistic Regression\", \"K Nearest Neighbors\", \"Gaussian Naive Bayes\",  \n",
    "              \"Decision Tree\", \"XGBClassifier\"],\n",
    "    \"Accuracy\": [acc_svc, acc_linsvc, acc_rf, acc_logreg, acc_knn, acc_gnb, acc_dt, acc_xg]\n",
    "})\n",
    "\n",
    "model_performance.sort_values(by=\"Accuracy\", ascending=False)"
   ]
  },
  {
   "cell_type": "code",
   "execution_count": 29,
   "id": "anonymous-bracelet",
   "metadata": {},
   "outputs": [
    {
     "name": "stdout",
     "output_type": "stream",
     "text": [
      "[0.83333333 0.83146067 0.83146067 0.83146067 0.83146067 0.85393258\n",
      " 0.84269663 0.82022472 0.82022472 0.86516854]\n",
      "\n",
      "Score: 83.61\n"
     ]
    }
   ],
   "source": [
    "estimators = [('Logistic Regression',logreg),\n",
    "              ('XGBoost',xgboost),\n",
    "              ('Naive Bayes', gnb),\n",
    "              ('Linear SVC', linear_svc),\n",
    "              ('Random Forest', rf)]\n",
    "\n",
    "stack = StackingClassifier(estimators=estimators)\n",
    "score = cross_val_score(stack, X_train, y_train, cv=k_fold, n_jobs=1, scoring=scoring)\n",
    "print(score)\n",
    "acc_stack = round(np.mean(score)*100, 2)\n",
    "print(\"\\nScore:\", acc_stack)"
   ]
  },
  {
   "cell_type": "markdown",
   "id": "charming-death",
   "metadata": {},
   "source": [
    "### 5.4. Tunning Parameters"
   ]
  },
  {
   "cell_type": "code",
   "execution_count": null,
   "id": "great-badge",
   "metadata": {},
   "outputs": [],
   "source": [
    "rf_clf = LogisticRegression(random_state=1)\n",
    "\n",
    "parameters = {\n",
    "    'penalty' : ['l1', 'l2', 'elasticnet', 'none'],\n",
    "    'C' : np.logspace(1, -1),\n",
    "    'solver' : ['liblinear', \"newton-cg\", \"lbfgs\", \"sag\", \"saga\"]\n",
    "}\n",
    "\n",
    "grid_cv = GridSearchCV(rf_clf, parameters, scoring = make_scorer(accuracy_score))\n",
    "grid_cv = grid_cv.fit(X_training, y_training)\n",
    "\n",
    "best_estimator = grid_cv.best_estimator_\n",
    "best_score = grid_cv.best_score_\n",
    "best_params = grid_cv.best_params_"
   ]
  },
  {
   "cell_type": "markdown",
   "id": "significant-venue",
   "metadata": {},
   "source": [
    "### 5.5. Best Model"
   ]
  },
  {
   "cell_type": "code",
   "execution_count": null,
   "id": "loving-hydrogen",
   "metadata": {},
   "outputs": [],
   "source": [
    "best_model = grid_cv.best_estimator_\n",
    "best_model.fit(train_data, target)"
   ]
  },
  {
   "cell_type": "markdown",
   "id": "technological-china",
   "metadata": {},
   "source": [
    "# 6. Submission"
   ]
  },
  {
   "cell_type": "code",
   "execution_count": 33,
   "id": "differential-institution",
   "metadata": {},
   "outputs": [],
   "source": [
    "test_data = test.drop(\"PassengerId\", axis=1).copy()\n",
    "stack.fit(train_data, target)\n",
    "prediction = stack.predict(test_data)"
   ]
  },
  {
   "cell_type": "code",
   "execution_count": 34,
   "id": "cosmetic-airline",
   "metadata": {},
   "outputs": [
    {
     "data": {
      "text/html": [
       "<div>\n",
       "<style scoped>\n",
       "    .dataframe tbody tr th:only-of-type {\n",
       "        vertical-align: middle;\n",
       "    }\n",
       "\n",
       "    .dataframe tbody tr th {\n",
       "        vertical-align: top;\n",
       "    }\n",
       "\n",
       "    .dataframe thead th {\n",
       "        text-align: right;\n",
       "    }\n",
       "</style>\n",
       "<table border=\"1\" class=\"dataframe\">\n",
       "  <thead>\n",
       "    <tr style=\"text-align: right;\">\n",
       "      <th></th>\n",
       "      <th>PassengerId</th>\n",
       "      <th>Survived</th>\n",
       "    </tr>\n",
       "  </thead>\n",
       "  <tbody>\n",
       "    <tr>\n",
       "      <th>0</th>\n",
       "      <td>892</td>\n",
       "      <td>0</td>\n",
       "    </tr>\n",
       "    <tr>\n",
       "      <th>1</th>\n",
       "      <td>893</td>\n",
       "      <td>0</td>\n",
       "    </tr>\n",
       "    <tr>\n",
       "      <th>2</th>\n",
       "      <td>894</td>\n",
       "      <td>0</td>\n",
       "    </tr>\n",
       "    <tr>\n",
       "      <th>3</th>\n",
       "      <td>895</td>\n",
       "      <td>0</td>\n",
       "    </tr>\n",
       "    <tr>\n",
       "      <th>4</th>\n",
       "      <td>896</td>\n",
       "      <td>1</td>\n",
       "    </tr>\n",
       "    <tr>\n",
       "      <th>5</th>\n",
       "      <td>897</td>\n",
       "      <td>0</td>\n",
       "    </tr>\n",
       "    <tr>\n",
       "      <th>6</th>\n",
       "      <td>898</td>\n",
       "      <td>1</td>\n",
       "    </tr>\n",
       "    <tr>\n",
       "      <th>7</th>\n",
       "      <td>899</td>\n",
       "      <td>0</td>\n",
       "    </tr>\n",
       "    <tr>\n",
       "      <th>8</th>\n",
       "      <td>900</td>\n",
       "      <td>1</td>\n",
       "    </tr>\n",
       "    <tr>\n",
       "      <th>9</th>\n",
       "      <td>901</td>\n",
       "      <td>0</td>\n",
       "    </tr>\n",
       "  </tbody>\n",
       "</table>\n",
       "</div>"
      ],
      "text/plain": [
       "   PassengerId  Survived\n",
       "0          892         0\n",
       "1          893         0\n",
       "2          894         0\n",
       "3          895         0\n",
       "4          896         1\n",
       "5          897         0\n",
       "6          898         1\n",
       "7          899         0\n",
       "8          900         1\n",
       "9          901         0"
      ]
     },
     "execution_count": 34,
     "metadata": {},
     "output_type": "execute_result"
    }
   ],
   "source": [
    "submission = pd.DataFrame({\n",
    "        \"PassengerId\": test[\"PassengerId\"],\n",
    "        \"Survived\": prediction\n",
    "})\n",
    "submission.head(10)"
   ]
  },
  {
   "cell_type": "code",
   "execution_count": 35,
   "id": "professional-detection",
   "metadata": {},
   "outputs": [],
   "source": [
    "submission.to_csv(r\"../data/submission.csv\", index=False)"
   ]
  }
 ],
 "metadata": {
  "kernelspec": {
   "display_name": "Python 3",
   "language": "python",
   "name": "python3"
  },
  "language_info": {
   "codemirror_mode": {
    "name": "ipython",
    "version": 3
   },
   "file_extension": ".py",
   "mimetype": "text/x-python",
   "name": "python",
   "nbconvert_exporter": "python",
   "pygments_lexer": "ipython3",
   "version": "3.9.1"
  }
 },
 "nbformat": 4,
 "nbformat_minor": 5
}
